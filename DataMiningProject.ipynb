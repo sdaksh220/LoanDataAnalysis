{
  "nbformat": 4,
  "nbformat_minor": 0,
  "metadata": {
    "hide_input": false,
    "kernelspec": {
      "display_name": "Python 3",
      "language": "python",
      "name": "python3"
    },
    "language_info": {
      "codemirror_mode": {
        "name": "ipython",
        "version": 3
      },
      "file_extension": ".py",
      "mimetype": "text/x-python",
      "name": "python",
      "nbconvert_exporter": "python",
      "pygments_lexer": "ipython3",
      "version": "3.6.3"
    },
    "latex_envs": {
      "LaTeX_envs_menu_present": true,
      "autoclose": false,
      "autocomplete": true,
      "bibliofile": "biblio.bib",
      "cite_by": "apalike",
      "current_citInitial": 1,
      "eqLabelWithNumbers": true,
      "eqNumInitial": 1,
      "hotkeys": {
        "equation": "Ctrl-E",
        "itemize": "Ctrl-I"
      },
      "labels_anchors": false,
      "latex_user_defs": false,
      "report_style_numbering": false,
      "user_envs_cfg": false
    },
    "nbTranslate": {
      "displayLangs": [
        "*"
      ],
      "hotkey": "alt-t",
      "langInMainMenu": true,
      "sourceLang": "en",
      "targetLang": "fr",
      "useGoogleTranslate": true
    },
    "toc": {
      "nav_menu": {},
      "number_sections": true,
      "sideBar": true,
      "skip_h1_title": false,
      "toc_cell": false,
      "toc_position": {},
      "toc_section_display": "block",
      "toc_window_display": false
    },
    "varInspector": {
      "cols": {
        "lenName": 16,
        "lenType": 16,
        "lenVar": 40
      },
      "kernels_config": {
        "python": {
          "delete_cmd_postfix": "",
          "delete_cmd_prefix": "del ",
          "library": "var_list.py",
          "varRefreshCmd": "print(var_dic_list())"
        },
        "r": {
          "delete_cmd_postfix": ") ",
          "delete_cmd_prefix": "rm(",
          "library": "var_list.r",
          "varRefreshCmd": "cat(var_dic_list()) "
        }
      },
      "types_to_exclude": [
        "module",
        "function",
        "builtin_function_or_method",
        "instance",
        "_Feature"
      ],
      "window_display": false
    },
    "colab": {
      "name": "DataMiningProject.ipynb",
      "provenance": [],
      "collapsed_sections": []
    }
  },
  "cells": [
    {
      "cell_type": "markdown",
      "metadata": {
        "id": "odW669if4b7b",
        "colab_type": "text"
      },
      "source": [
        "# Introduction \n",
        "\n",
        "Title: Applying analysis techniques and machine learning model on Lending Club dataset <br>\n",
        "Data From: https://www.kaggle.com/wendykan/lending-club-loan-data <br>\n",
        "Made By- Udbhav Naryani (RA1711003030230), Daksh Kumar Sharma (RA1711003030195)\n"
      ]
    },
    {
      "cell_type": "code",
      "metadata": {
        "ExecuteTime": {
          "end_time": "2018-04-06T02:24:57.927611Z",
          "start_time": "2018-04-06T02:24:57.566875Z"
        },
        "id": "qh9SXfPO4b7i",
        "colab_type": "code",
        "colab": {}
      },
      "source": [
        "# libraries used on this notebook\n",
        "import warnings\n",
        "\n",
        "import pandas as pd\n",
        "import numpy as np\n",
        "\n",
        "import matplotlib.pyplot as plt\n",
        "%matplotlib inline\n",
        "import seaborn as sns\n",
        "#from wordcloud import WordCloud, STOPWORDS\n",
        "\n",
        "from matplotlib import rcParams\n",
        "rcParams['figure.figsize'] = 8,6\n",
        "\n",
        "# Sklearn\n",
        "from sklearn import linear_model,svm\n",
        "from sklearn.metrics import average_precision_score\n",
        "from sklearn.metrics import precision_recall_curve\n",
        "\n",
        "from sklearn.model_selection import train_test_split\n",
        "from sklearn.ensemble import RandomForestClassifier\n",
        "from sklearn.metrics import accuracy_score\n",
        "from sklearn import preprocessing\n",
        "\n",
        "from sklearn.svm import SVC\n",
        "from sklearn.model_selection import learning_curve\n",
        "from sklearn.model_selection import ShuffleSplit\n",
        "from sklearn import metrics \n",
        "\n",
        "import itertools\n",
        "from sklearn.metrics import confusion_matrix\n",
        "from sklearn.feature_selection import RFE\n",
        "from sklearn.decomposition import PCA \n",
        "from sklearn.grid_search import RandomizedSearchCV\n",
        "from sklearn.grid_search import GridSearchCV\n",
        "\n",
        "from sklearn import model_selection\n",
        "from sklearn.ensemble import BaggingClassifier\n",
        "from sklearn.ensemble import AdaBoostClassifier\n",
        "from sklearn.neural_network import MLPClassifier\n",
        "\n",
        "sns.set('talk', 'whitegrid', 'dark', font_scale=1, font='Ricty',rc={\"lines.linewidth\": 2, 'grid.linestyle': '--'})\n",
        "warnings.filterwarnings('ignore')"
      ],
      "execution_count": 0,
      "outputs": []
    },
    {
      "cell_type": "markdown",
      "metadata": {
        "id": "MIeTU07n4b7r",
        "colab_type": "text"
      },
      "source": [
        "### Load data\n",
        "Handy function for data loading.\n"
      ]
    },
    {
      "cell_type": "code",
      "metadata": {
        "ExecuteTime": {
          "end_time": "2018-04-06T01:36:25.515455Z",
          "start_time": "2018-04-06T01:36:25.509452Z"
        },
        "id": "ECFoeC4D4b7t",
        "colab_type": "code",
        "colab": {}
      },
      "source": [
        "def load_data(filename):\n",
        "    \"\"\"Read from local file\"\"\"\n",
        "    return pd.read_csv(filename + \".csv\", low_memory=False)"
      ],
      "execution_count": 0,
      "outputs": []
    },
    {
      "cell_type": "code",
      "metadata": {
        "ExecuteTime": {
          "end_time": "2018-04-06T01:37:05.631842Z",
          "start_time": "2018-04-06T01:36:25.554483Z"
        },
        "id": "vCBGqnlo4b78",
        "colab_type": "code",
        "colab": {}
      },
      "source": [
        "for_analysis = load_data(r\"C:\\Users\\wizard19999\\Downloads\\loan\")\n",
        "for_ml = for_analysis.copy()"
      ],
      "execution_count": 0,
      "outputs": []
    },
    {
      "cell_type": "markdown",
      "metadata": {
        "id": "qeyJTIA44b8B",
        "colab_type": "text"
      },
      "source": [
        "### Making DataFrame Faster\n",
        "We will convert columns that have less than 150 unique values to <b>categorical</b>. "
      ]
    },
    {
      "cell_type": "code",
      "metadata": {
        "ExecuteTime": {
          "end_time": "2018-04-06T01:37:05.828973Z",
          "start_time": "2018-04-06T01:37:05.642845Z"
        },
        "id": "fOB3Vk2O4b8C",
        "colab_type": "code",
        "colab": {}
      },
      "source": [
        "def reduce_memory_usage(data):\n",
        "    for x in data.columns:\n",
        "        n = data[x].dtypes\n",
        "        if n == \"object\":\n",
        "            cat = data[x].nunique()\n",
        "            if cat < 150:\n",
        "                data[x] = data[x].astype(\"category\")"
      ],
      "execution_count": 0,
      "outputs": []
    },
    {
      "cell_type": "code",
      "metadata": {
        "ExecuteTime": {
          "end_time": "2018-04-06T01:37:17.715426Z",
          "start_time": "2018-04-06T01:37:05.830975Z"
        },
        "id": "81LzE0mS4b8G",
        "colab_type": "code",
        "colab": {}
      },
      "source": [
        "reduce_memory_usage(for_analysis)"
      ],
      "execution_count": 0,
      "outputs": []
    },
    {
      "cell_type": "markdown",
      "metadata": {
        "id": "FdQ0TWiv4b8c",
        "colab_type": "text"
      },
      "source": [
        "### Drop useless columns\n",
        "We'll filter out the columns with more than 80% NULL values and then drop those columns from the DataFrame. "
      ]
    },
    {
      "cell_type": "code",
      "metadata": {
        "ExecuteTime": {
          "end_time": "2018-04-06T01:37:17.996625Z",
          "start_time": "2018-04-06T01:37:17.871537Z"
        },
        "id": "bKVdaebl4b8d",
        "colab_type": "code",
        "colab": {}
      },
      "source": [
        "def PercentageMissin(Dataset):\n",
        "    if isinstance(Dataset,pd.DataFrame):\n",
        "        adict={} \n",
        "        column = []\n",
        "        for col in Dataset.columns:\n",
        "            adict[col]=(np.count_nonzero(Dataset[col].isnull())*100)/len(Dataset[col])\n",
        "            if adict[col] > 80:\n",
        "                del adict[col]\n",
        "            else:\n",
        "                column.append(col)\n",
        "        Dataset = Dataset.loc[:, column]\n",
        "        return Dataset\n",
        "    else:\n",
        "        raise TypeError(\"can only be used with panda dataframe\")"
      ],
      "execution_count": 0,
      "outputs": []
    },
    {
      "cell_type": "code",
      "metadata": {
        "ExecuteTime": {
          "end_time": "2018-04-06T01:37:20.054088Z",
          "start_time": "2018-04-06T01:37:18.264817Z"
        },
        "id": "1cu8q53Q4b8k",
        "colab_type": "code",
        "colab": {}
      },
      "source": [
        "for_analysis = PercentageMissin(for_analysis) "
      ],
      "execution_count": 0,
      "outputs": []
    },
    {
      "cell_type": "code",
      "metadata": {
        "ExecuteTime": {
          "end_time": "2018-04-06T01:37:20.141149Z",
          "start_time": "2018-04-06T01:37:20.056091Z"
        },
        "id": "nPZfYU_P4b8o",
        "colab_type": "code",
        "outputId": "0de00da3-e648-4596-b8e2-4c4996729553",
        "colab": {}
      },
      "source": [
        "for_analysis.head()"
      ],
      "execution_count": 0,
      "outputs": [
        {
          "output_type": "execute_result",
          "data": {
            "text/html": [
              "<div>\n",
              "<style>\n",
              "    .dataframe thead tr:only-child th {\n",
              "        text-align: right;\n",
              "    }\n",
              "\n",
              "    .dataframe thead th {\n",
              "        text-align: left;\n",
              "    }\n",
              "\n",
              "    .dataframe tbody tr th {\n",
              "        vertical-align: top;\n",
              "    }\n",
              "</style>\n",
              "<table border=\"1\" class=\"dataframe\">\n",
              "  <thead>\n",
              "    <tr style=\"text-align: right;\">\n",
              "      <th></th>\n",
              "      <th>id</th>\n",
              "      <th>member_id</th>\n",
              "      <th>loan_amnt</th>\n",
              "      <th>funded_amnt</th>\n",
              "      <th>funded_amnt_inv</th>\n",
              "      <th>term</th>\n",
              "      <th>int_rate</th>\n",
              "      <th>installment</th>\n",
              "      <th>grade</th>\n",
              "      <th>sub_grade</th>\n",
              "      <th>...</th>\n",
              "      <th>next_pymnt_d</th>\n",
              "      <th>last_credit_pull_d</th>\n",
              "      <th>collections_12_mths_ex_med</th>\n",
              "      <th>mths_since_last_major_derog</th>\n",
              "      <th>policy_code</th>\n",
              "      <th>application_type</th>\n",
              "      <th>acc_now_delinq</th>\n",
              "      <th>tot_coll_amt</th>\n",
              "      <th>tot_cur_bal</th>\n",
              "      <th>total_rev_hi_lim</th>\n",
              "    </tr>\n",
              "  </thead>\n",
              "  <tbody>\n",
              "    <tr>\n",
              "      <th>0</th>\n",
              "      <td>1077501</td>\n",
              "      <td>1296599</td>\n",
              "      <td>5000.0</td>\n",
              "      <td>5000.0</td>\n",
              "      <td>4975.0</td>\n",
              "      <td>36 months</td>\n",
              "      <td>10.65</td>\n",
              "      <td>162.87</td>\n",
              "      <td>B</td>\n",
              "      <td>B2</td>\n",
              "      <td>...</td>\n",
              "      <td>NaN</td>\n",
              "      <td>Jan-2016</td>\n",
              "      <td>0.0</td>\n",
              "      <td>NaN</td>\n",
              "      <td>1.0</td>\n",
              "      <td>INDIVIDUAL</td>\n",
              "      <td>0.0</td>\n",
              "      <td>NaN</td>\n",
              "      <td>NaN</td>\n",
              "      <td>NaN</td>\n",
              "    </tr>\n",
              "    <tr>\n",
              "      <th>1</th>\n",
              "      <td>1077430</td>\n",
              "      <td>1314167</td>\n",
              "      <td>2500.0</td>\n",
              "      <td>2500.0</td>\n",
              "      <td>2500.0</td>\n",
              "      <td>60 months</td>\n",
              "      <td>15.27</td>\n",
              "      <td>59.83</td>\n",
              "      <td>C</td>\n",
              "      <td>C4</td>\n",
              "      <td>...</td>\n",
              "      <td>NaN</td>\n",
              "      <td>Sep-2013</td>\n",
              "      <td>0.0</td>\n",
              "      <td>NaN</td>\n",
              "      <td>1.0</td>\n",
              "      <td>INDIVIDUAL</td>\n",
              "      <td>0.0</td>\n",
              "      <td>NaN</td>\n",
              "      <td>NaN</td>\n",
              "      <td>NaN</td>\n",
              "    </tr>\n",
              "    <tr>\n",
              "      <th>2</th>\n",
              "      <td>1077175</td>\n",
              "      <td>1313524</td>\n",
              "      <td>2400.0</td>\n",
              "      <td>2400.0</td>\n",
              "      <td>2400.0</td>\n",
              "      <td>36 months</td>\n",
              "      <td>15.96</td>\n",
              "      <td>84.33</td>\n",
              "      <td>C</td>\n",
              "      <td>C5</td>\n",
              "      <td>...</td>\n",
              "      <td>NaN</td>\n",
              "      <td>Jan-2016</td>\n",
              "      <td>0.0</td>\n",
              "      <td>NaN</td>\n",
              "      <td>1.0</td>\n",
              "      <td>INDIVIDUAL</td>\n",
              "      <td>0.0</td>\n",
              "      <td>NaN</td>\n",
              "      <td>NaN</td>\n",
              "      <td>NaN</td>\n",
              "    </tr>\n",
              "    <tr>\n",
              "      <th>3</th>\n",
              "      <td>1076863</td>\n",
              "      <td>1277178</td>\n",
              "      <td>10000.0</td>\n",
              "      <td>10000.0</td>\n",
              "      <td>10000.0</td>\n",
              "      <td>36 months</td>\n",
              "      <td>13.49</td>\n",
              "      <td>339.31</td>\n",
              "      <td>C</td>\n",
              "      <td>C1</td>\n",
              "      <td>...</td>\n",
              "      <td>NaN</td>\n",
              "      <td>Jan-2015</td>\n",
              "      <td>0.0</td>\n",
              "      <td>NaN</td>\n",
              "      <td>1.0</td>\n",
              "      <td>INDIVIDUAL</td>\n",
              "      <td>0.0</td>\n",
              "      <td>NaN</td>\n",
              "      <td>NaN</td>\n",
              "      <td>NaN</td>\n",
              "    </tr>\n",
              "    <tr>\n",
              "      <th>4</th>\n",
              "      <td>1075358</td>\n",
              "      <td>1311748</td>\n",
              "      <td>3000.0</td>\n",
              "      <td>3000.0</td>\n",
              "      <td>3000.0</td>\n",
              "      <td>60 months</td>\n",
              "      <td>12.69</td>\n",
              "      <td>67.79</td>\n",
              "      <td>B</td>\n",
              "      <td>B5</td>\n",
              "      <td>...</td>\n",
              "      <td>Feb-2016</td>\n",
              "      <td>Jan-2016</td>\n",
              "      <td>0.0</td>\n",
              "      <td>NaN</td>\n",
              "      <td>1.0</td>\n",
              "      <td>INDIVIDUAL</td>\n",
              "      <td>0.0</td>\n",
              "      <td>NaN</td>\n",
              "      <td>NaN</td>\n",
              "      <td>NaN</td>\n",
              "    </tr>\n",
              "  </tbody>\n",
              "</table>\n",
              "<p>5 rows × 55 columns</p>\n",
              "</div>"
            ],
            "text/plain": [
              "        id  member_id  loan_amnt  funded_amnt  funded_amnt_inv        term  \\\n",
              "0  1077501    1296599     5000.0       5000.0           4975.0   36 months   \n",
              "1  1077430    1314167     2500.0       2500.0           2500.0   60 months   \n",
              "2  1077175    1313524     2400.0       2400.0           2400.0   36 months   \n",
              "3  1076863    1277178    10000.0      10000.0          10000.0   36 months   \n",
              "4  1075358    1311748     3000.0       3000.0           3000.0   60 months   \n",
              "\n",
              "   int_rate  installment grade sub_grade       ...        next_pymnt_d  \\\n",
              "0     10.65       162.87     B        B2       ...                 NaN   \n",
              "1     15.27        59.83     C        C4       ...                 NaN   \n",
              "2     15.96        84.33     C        C5       ...                 NaN   \n",
              "3     13.49       339.31     C        C1       ...                 NaN   \n",
              "4     12.69        67.79     B        B5       ...            Feb-2016   \n",
              "\n",
              "  last_credit_pull_d collections_12_mths_ex_med  mths_since_last_major_derog  \\\n",
              "0           Jan-2016                        0.0                          NaN   \n",
              "1           Sep-2013                        0.0                          NaN   \n",
              "2           Jan-2016                        0.0                          NaN   \n",
              "3           Jan-2015                        0.0                          NaN   \n",
              "4           Jan-2016                        0.0                          NaN   \n",
              "\n",
              "  policy_code application_type acc_now_delinq tot_coll_amt tot_cur_bal  \\\n",
              "0         1.0       INDIVIDUAL            0.0          NaN         NaN   \n",
              "1         1.0       INDIVIDUAL            0.0          NaN         NaN   \n",
              "2         1.0       INDIVIDUAL            0.0          NaN         NaN   \n",
              "3         1.0       INDIVIDUAL            0.0          NaN         NaN   \n",
              "4         1.0       INDIVIDUAL            0.0          NaN         NaN   \n",
              "\n",
              "  total_rev_hi_lim  \n",
              "0              NaN  \n",
              "1              NaN  \n",
              "2              NaN  \n",
              "3              NaN  \n",
              "4              NaN  \n",
              "\n",
              "[5 rows x 55 columns]"
            ]
          },
          "metadata": {
            "tags": []
          },
          "execution_count": 106
        }
      ]
    },
    {
      "cell_type": "markdown",
      "metadata": {
        "id": "OZfiL7PW4b8s",
        "colab_type": "text"
      },
      "source": [
        "## Section 1\n",
        "### Analysis"
      ]
    },
    {
      "cell_type": "markdown",
      "metadata": {
        "id": "PLhetrE04b8u",
        "colab_type": "text"
      },
      "source": [
        "### Question 1: What kind of interest rate are borrowers paying?\n",
        "\n",
        "Output: the common interest rate borrowers are paying is <b>13.24%</b><br>\n"
      ]
    },
    {
      "cell_type": "code",
      "metadata": {
        "ExecuteTime": {
          "end_time": "2018-04-06T01:37:21.177888Z",
          "start_time": "2018-04-06T01:37:20.202195Z"
        },
        "id": "EAa5BNjt4b8v",
        "colab_type": "code",
        "outputId": "30aede94-898f-4868-8d75-fab09cf318fa",
        "colab": {}
      },
      "source": [
        "for_analysis = for_analysis[for_analysis.int_rate.notnull()]\n",
        "for_analysis.int_rate.describe()"
      ],
      "execution_count": 0,
      "outputs": [
        {
          "output_type": "execute_result",
          "data": {
            "text/plain": [
              "count    887379.000000\n",
              "mean         13.246740\n",
              "std           4.381867\n",
              "min           5.320000\n",
              "25%           9.990000\n",
              "50%          12.990000\n",
              "75%          16.200000\n",
              "max          28.990000\n",
              "Name: int_rate, dtype: float64"
            ]
          },
          "metadata": {
            "tags": []
          },
          "execution_count": 107
        }
      ]
    },
    {
      "cell_type": "code",
      "metadata": {
        "ExecuteTime": {
          "end_time": "2018-04-06T01:37:27.529403Z",
          "start_time": "2018-04-06T01:37:21.179891Z"
        },
        "id": "Q2togDk84b80",
        "colab_type": "code",
        "outputId": "a364df6e-4399-4020-cf2a-ff08d68553f4",
        "colab": {}
      },
      "source": [
        "\n",
        "sns.distplot(for_analysis.int_rate, axlabel = \"Interest Rate\", color=\"blue\")"
      ],
      "execution_count": 0,
      "outputs": [
        {
          "output_type": "execute_result",
          "data": {
            "text/plain": [
              "<matplotlib.axes._subplots.AxesSubplot at 0x4eb254e0>"
            ]
          },
          "metadata": {
            "tags": []
          },
          "execution_count": 108
        },
        {
          "output_type": "display_data",
          "data": {
            "image/png": "[encoded data removed]",
            "text/plain": [
              "<matplotlib.figure.Figure at 0xe81c630>"
            ]
          },
          "metadata": {
            "tags": []
          }
        }
      ]
    },
    {
      "cell_type": "markdown",
      "metadata": {
        "id": "zWigGLgQ4b9M",
        "colab_type": "text"
      },
      "source": [
        "### Question 2: How long are the loan terms?\n",
        "\n",
        "<b>Output:</b> about 70 percent of all borrowers choose 36 months loan terms."
      ]
    },
    {
      "cell_type": "code",
      "metadata": {
        "ExecuteTime": {
          "end_time": "2018-04-06T01:37:46.257764Z",
          "start_time": "2018-04-06T01:37:46.214733Z"
        },
        "id": "JvhuK6JV4b9N",
        "colab_type": "code",
        "outputId": "1b62f45e-bc5d-40ae-e46a-c1d9fe9ab09a",
        "colab": {}
      },
      "source": [
        "for_analysis.term.value_counts(1)"
      ],
      "execution_count": 0,
      "outputs": [
        {
          "output_type": "execute_result",
          "data": {
            "text/plain": [
              " 36 months    0.699955\n",
              " 60 months    0.300045\n",
              "Name: term, dtype: float64"
            ]
          },
          "metadata": {
            "tags": []
          },
          "execution_count": 111
        }
      ]
    },
    {
      "cell_type": "code",
      "metadata": {
        "ExecuteTime": {
          "end_time": "2018-04-06T01:37:46.717090Z",
          "start_time": "2018-04-06T01:37:46.259765Z"
        },
        "id": "HXCYqke94b9R",
        "colab_type": "code",
        "outputId": "d1b44310-d22f-4c02-9b0e-e6c0da1d7687",
        "colab": {}
      },
      "source": [
        "for_analysis.term.value_counts(1).plot(kind=\"pie\", fontsize=16)"
      ],
      "execution_count": 0,
      "outputs": [
        {
          "output_type": "execute_result",
          "data": {
            "text/plain": [
              "<matplotlib.axes._subplots.AxesSubplot at 0xf67bb70>"
            ]
          },
          "metadata": {
            "tags": []
          },
          "execution_count": 112
        },
        {
          "output_type": "display_data",
          "data": {
            "image/png": "[encoded data removed]",
            "text/plain": [
              "<matplotlib.figure.Figure at 0xe7eb9e8>"
            ]
          },
          "metadata": {
            "tags": []
          }
        }
      ]
    },
    {
      "cell_type": "markdown",
      "metadata": {
        "id": "WKwxEAny4b9U",
        "colab_type": "text"
      },
      "source": [
        "### Question 3: How much are people borrowing?\n",
        "\n",
        "<b>Output:</b> the average amount people borrow is $14,755."
      ]
    },
    {
      "cell_type": "code",
      "metadata": {
        "ExecuteTime": {
          "end_time": "2018-04-06T01:37:46.834173Z",
          "start_time": "2018-04-06T01:37:46.719092Z"
        },
        "id": "r45bsC_F4b9V",
        "colab_type": "code",
        "outputId": "cf336db0-add3-4ef6-ac80-3ad9a210edb3",
        "colab": {}
      },
      "source": [
        "for_analysis.loan_amnt.describe()"
      ],
      "execution_count": 0,
      "outputs": [
        {
          "output_type": "execute_result",
          "data": {
            "text/plain": [
              "count    887379.000000\n",
              "mean      14755.264605\n",
              "std        8435.455601\n",
              "min         500.000000\n",
              "25%        8000.000000\n",
              "50%       13000.000000\n",
              "75%       20000.000000\n",
              "max       35000.000000\n",
              "Name: loan_amnt, dtype: float64"
            ]
          },
          "metadata": {
            "tags": []
          },
          "execution_count": 113
        }
      ]
    },
    {
      "cell_type": "markdown",
      "metadata": {
        "id": "v5o8YwSq4b9Y",
        "colab_type": "text"
      },
      "source": [
        "### Question 4: for what purpose?\n",
        "\n",
        "<b>Output:</b> most people are borrowing money for 'debt', 'small business', and 'credit card'"
      ]
    },
    {
      "cell_type": "code",
      "metadata": {
        "ExecuteTime": {
          "end_time": "2018-04-06T01:37:49.112796Z",
          "start_time": "2018-04-06T01:37:46.837175Z"
        },
        "id": "wAabr4Mx4b9Z",
        "colab_type": "code",
        "outputId": "ccfc1e39-67a9-4e6e-d6c9-dba780eee367",
        "colab": {}
      },
      "source": [
        "for_analysis.groupby('purpose').agg(\n",
        "    {'loan_amnt':'mean'}).sort_values('loan_amnt', ascending=False).plot(kind='bar')"
      ],
      "execution_count": 0,
      "outputs": [
        {
          "output_type": "execute_result",
          "data": {
            "text/plain": [
              "<matplotlib.axes._subplots.AxesSubplot at 0x1b52b080>"
            ]
          },
          "metadata": {
            "tags": []
          },
          "execution_count": 114
        },
        {
          "output_type": "display_data",
          "data": {
            "image/png": "[encoded data removed]",
            "text/plain": [
              "<matplotlib.figure.Figure at 0x1b60b9e8>"
            ]
          },
          "metadata": {
            "tags": []
          }
        }
      ]
    },
    {
      "cell_type": "markdown",
      "metadata": {
        "id": "InFoPQTf4b9l",
        "colab_type": "text"
      },
      "source": [
        "### Crossbat table by loan purpose and loan status"
      ]
    },
    {
      "cell_type": "code",
      "metadata": {
        "ExecuteTime": {
          "end_time": "2018-04-06T01:38:03.036695Z",
          "start_time": "2018-04-06T01:38:02.534338Z"
        },
        "id": "NqFmcwnO4b9l",
        "colab_type": "code",
        "outputId": "999076e0-4056-4603-aac1-5b56845814f2",
        "colab": {}
      },
      "source": [
        "#Exploring the loan_status x purpose\n",
        "purp_loan= ['purpose', 'loan_status']\n",
        "cm = sns.light_palette(\"green\", as_cmap=True)\n",
        "pd.crosstab(for_analysis[purp_loan[0]], for_analysis[purp_loan[1]]).style.background_gradient(cmap = cm)"
      ],
      "execution_count": 0,
      "outputs": [
        {
          "output_type": "execute_result",
          "data": {
            "text/html": [
              "<style  type=\"text/css\" >\n",
              "    #T_7fa5f89e_39cf_11e8_aa94_005056c00008row0_col0 {\n",
              "            background-color:  #e3fee3;\n",
              "        }    #T_7fa5f89e_39cf_11e8_aa94_005056c00008row0_col1 {\n",
              "            background-color:  #e3fee3;\n",
              "        }    #T_7fa5f89e_39cf_11e8_aa94_005056c00008row0_col2 {\n",
              "            background-color:  #e3fee3;\n",
              "        }    #T_7fa5f89e_39cf_11e8_aa94_005056c00008row0_col3 {\n",
              "            background-color:  #e0fce0;\n",
              "        }    #T_7fa5f89e_39cf_11e8_aa94_005056c00008row0_col4 {\n",
              "            background-color:  #e4fee4;\n",
              "        }    #T_7fa5f89e_39cf_11e8_aa94_005056c00008row0_col5 {\n",
              "            background-color:  #e2fde2;\n",
              "        }    #T_7fa5f89e_39cf_11e8_aa94_005056c00008row0_col6 {\n",
              "            background-color:  #e4fee4;\n",
              "        }    #T_7fa5f89e_39cf_11e8_aa94_005056c00008row0_col7 {\n",
              "            background-color:  #e4fee4;\n",
              "        }    #T_7fa5f89e_39cf_11e8_aa94_005056c00008row1_col0 {\n",
              "            background-color:  #a5dba5;\n",
              "        }    #T_7fa5f89e_39cf_11e8_aa94_005056c00008row1_col1 {\n",
              "            background-color:  #85ca85;\n",
              "        }    #T_7fa5f89e_39cf_11e8_aa94_005056c00008row1_col2 {\n",
              "            background-color:  #a2daa2;\n",
              "        }    #T_7fa5f89e_39cf_11e8_aa94_005056c00008row1_col3 {\n",
              "            background-color:  #95d395;\n",
              "        }    #T_7fa5f89e_39cf_11e8_aa94_005056c00008row1_col4 {\n",
              "            background-color:  #a4dba4;\n",
              "        }    #T_7fa5f89e_39cf_11e8_aa94_005056c00008row1_col5 {\n",
              "            background-color:  #82c882;\n",
              "        }    #T_7fa5f89e_39cf_11e8_aa94_005056c00008row1_col6 {\n",
              "            background-color:  #acdfac;\n",
              "        }    #T_7fa5f89e_39cf_11e8_aa94_005056c00008row1_col7 {\n",
              "            background-color:  #a5dba5;\n",
              "        }    #T_7fa5f89e_39cf_11e8_aa94_005056c00008row2_col0 {\n",
              "            background-color:  #008000;\n",
              "        }    #T_7fa5f89e_39cf_11e8_aa94_005056c00008row2_col1 {\n",
              "            background-color:  #008000;\n",
              "        }    #T_7fa5f89e_39cf_11e8_aa94_005056c00008row2_col2 {\n",
              "            background-color:  #008000;\n",
              "        }    #T_7fa5f89e_39cf_11e8_aa94_005056c00008row2_col3 {\n",
              "            background-color:  #008000;\n",
              "        }    #T_7fa5f89e_39cf_11e8_aa94_005056c00008row2_col4 {\n",
              "            background-color:  #008000;\n",
              "        }    #T_7fa5f89e_39cf_11e8_aa94_005056c00008row2_col5 {\n",
              "            background-color:  #008000;\n",
              "        }    #T_7fa5f89e_39cf_11e8_aa94_005056c00008row2_col6 {\n",
              "            background-color:  #008000;\n",
              "        }    #T_7fa5f89e_39cf_11e8_aa94_005056c00008row2_col7 {\n",
              "            background-color:  #008000;\n",
              "        }    #T_7fa5f89e_39cf_11e8_aa94_005056c00008row3_col0 {\n",
              "            background-color:  #e5ffe5;\n",
              "        }    #T_7fa5f89e_39cf_11e8_aa94_005056c00008row3_col1 {\n",
              "            background-color:  #e5ffe5;\n",
              "        }    #T_7fa5f89e_39cf_11e8_aa94_005056c00008row3_col2 {\n",
              "            background-color:  #e5ffe5;\n",
              "        }    #T_7fa5f89e_39cf_11e8_aa94_005056c00008row3_col3 {\n",
              "            background-color:  #e5ffe5;\n",
              "        }    #T_7fa5f89e_39cf_11e8_aa94_005056c00008row3_col4 {\n",
              "            background-color:  #e5ffe5;\n",
              "        }    #T_7fa5f89e_39cf_11e8_aa94_005056c00008row3_col5 {\n",
              "            background-color:  #e5ffe5;\n",
              "        }    #T_7fa5f89e_39cf_11e8_aa94_005056c00008row3_col6 {\n",
              "            background-color:  #e5ffe5;\n",
              "        }    #T_7fa5f89e_39cf_11e8_aa94_005056c00008row3_col7 {\n",
              "            background-color:  #e5ffe5;\n",
              "        }    #T_7fa5f89e_39cf_11e8_aa94_005056c00008row4_col0 {\n",
              "            background-color:  #d3f5d3;\n",
              "        }    #T_7fa5f89e_39cf_11e8_aa94_005056c00008row4_col1 {\n",
              "            background-color:  #cff3cf;\n",
              "        }    #T_7fa5f89e_39cf_11e8_aa94_005056c00008row4_col2 {\n",
              "            background-color:  #d8f8d8;\n",
              "        }    #T_7fa5f89e_39cf_11e8_aa94_005056c00008row4_col3 {\n",
              "            background-color:  #cef2ce;\n",
              "        }    #T_7fa5f89e_39cf_11e8_aa94_005056c00008row4_col4 {\n",
              "            background-color:  #d1f4d1;\n",
              "        }    #T_7fa5f89e_39cf_11e8_aa94_005056c00008row4_col5 {\n",
              "            background-color:  #cef2ce;\n",
              "        }    #T_7fa5f89e_39cf_11e8_aa94_005056c00008row4_col6 {\n",
              "            background-color:  #d1f4d1;\n",
              "        }    #T_7fa5f89e_39cf_11e8_aa94_005056c00008row4_col7 {\n",
              "            background-color:  #d2f4d2;\n",
              "        }    #T_7fa5f89e_39cf_11e8_aa94_005056c00008row5_col0 {\n",
              "            background-color:  #e4fee4;\n",
              "        }    #T_7fa5f89e_39cf_11e8_aa94_005056c00008row5_col1 {\n",
              "            background-color:  #e5ffe5;\n",
              "        }    #T_7fa5f89e_39cf_11e8_aa94_005056c00008row5_col2 {\n",
              "            background-color:  #e4fee4;\n",
              "        }    #T_7fa5f89e_39cf_11e8_aa94_005056c00008row5_col3 {\n",
              "            background-color:  #e4fee4;\n",
              "        }    #T_7fa5f89e_39cf_11e8_aa94_005056c00008row5_col4 {\n",
              "            background-color:  #e4fee4;\n",
              "        }    #T_7fa5f89e_39cf_11e8_aa94_005056c00008row5_col5 {\n",
              "            background-color:  #e5ffe5;\n",
              "        }    #T_7fa5f89e_39cf_11e8_aa94_005056c00008row5_col6 {\n",
              "            background-color:  #e4fee4;\n",
              "        }    #T_7fa5f89e_39cf_11e8_aa94_005056c00008row5_col7 {\n",
              "            background-color:  #e4fee4;\n",
              "        }    #T_7fa5f89e_39cf_11e8_aa94_005056c00008row6_col0 {\n",
              "            background-color:  #dffcdf;\n",
              "        }    #T_7fa5f89e_39cf_11e8_aa94_005056c00008row6_col1 {\n",
              "            background-color:  #dffcdf;\n",
              "        }    #T_7fa5f89e_39cf_11e8_aa94_005056c00008row6_col2 {\n",
              "            background-color:  #e2fde2;\n",
              "        }    #T_7fa5f89e_39cf_11e8_aa94_005056c00008row6_col3 {\n",
              "            background-color:  #dcfadc;\n",
              "        }    #T_7fa5f89e_39cf_11e8_aa94_005056c00008row6_col4 {\n",
              "            background-color:  #defbde;\n",
              "        }    #T_7fa5f89e_39cf_11e8_aa94_005056c00008row6_col5 {\n",
              "            background-color:  #ddfbdd;\n",
              "        }    #T_7fa5f89e_39cf_11e8_aa94_005056c00008row6_col6 {\n",
              "            background-color:  #defbde;\n",
              "        }    #T_7fa5f89e_39cf_11e8_aa94_005056c00008row6_col7 {\n",
              "            background-color:  #dffcdf;\n",
              "        }    #T_7fa5f89e_39cf_11e8_aa94_005056c00008row7_col0 {\n",
              "            background-color:  #e2fde2;\n",
              "        }    #T_7fa5f89e_39cf_11e8_aa94_005056c00008row7_col1 {\n",
              "            background-color:  #e3fee3;\n",
              "        }    #T_7fa5f89e_39cf_11e8_aa94_005056c00008row7_col2 {\n",
              "            background-color:  #e2fde2;\n",
              "        }    #T_7fa5f89e_39cf_11e8_aa94_005056c00008row7_col3 {\n",
              "            background-color:  #e2fde2;\n",
              "        }    #T_7fa5f89e_39cf_11e8_aa94_005056c00008row7_col4 {\n",
              "            background-color:  #e3fee3;\n",
              "        }    #T_7fa5f89e_39cf_11e8_aa94_005056c00008row7_col5 {\n",
              "            background-color:  #e2fde2;\n",
              "        }    #T_7fa5f89e_39cf_11e8_aa94_005056c00008row7_col6 {\n",
              "            background-color:  #e4fee4;\n",
              "        }    #T_7fa5f89e_39cf_11e8_aa94_005056c00008row7_col7 {\n",
              "            background-color:  #e2fde2;\n",
              "        }    #T_7fa5f89e_39cf_11e8_aa94_005056c00008row8_col0 {\n",
              "            background-color:  #e3fee3;\n",
              "        }    #T_7fa5f89e_39cf_11e8_aa94_005056c00008row8_col1 {\n",
              "            background-color:  #e4fee4;\n",
              "        }    #T_7fa5f89e_39cf_11e8_aa94_005056c00008row8_col2 {\n",
              "            background-color:  #e3fee3;\n",
              "        }    #T_7fa5f89e_39cf_11e8_aa94_005056c00008row8_col3 {\n",
              "            background-color:  #e4fee4;\n",
              "        }    #T_7fa5f89e_39cf_11e8_aa94_005056c00008row8_col4 {\n",
              "            background-color:  #e4fee4;\n",
              "        }    #T_7fa5f89e_39cf_11e8_aa94_005056c00008row8_col5 {\n",
              "            background-color:  #e4fee4;\n",
              "        }    #T_7fa5f89e_39cf_11e8_aa94_005056c00008row8_col6 {\n",
              "            background-color:  #e3fee3;\n",
              "        }    #T_7fa5f89e_39cf_11e8_aa94_005056c00008row8_col7 {\n",
              "            background-color:  #e3fee3;\n",
              "        }    #T_7fa5f89e_39cf_11e8_aa94_005056c00008row9_col0 {\n",
              "            background-color:  #cdf2cd;\n",
              "        }    #T_7fa5f89e_39cf_11e8_aa94_005056c00008row9_col1 {\n",
              "            background-color:  #d4f6d4;\n",
              "        }    #T_7fa5f89e_39cf_11e8_aa94_005056c00008row9_col2 {\n",
              "            background-color:  #d3f5d3;\n",
              "        }    #T_7fa5f89e_39cf_11e8_aa94_005056c00008row9_col3 {\n",
              "            background-color:  #d0f3d0;\n",
              "        }    #T_7fa5f89e_39cf_11e8_aa94_005056c00008row9_col4 {\n",
              "            background-color:  #d4f6d4;\n",
              "        }    #T_7fa5f89e_39cf_11e8_aa94_005056c00008row9_col5 {\n",
              "            background-color:  #cff3cf;\n",
              "        }    #T_7fa5f89e_39cf_11e8_aa94_005056c00008row9_col6 {\n",
              "            background-color:  #d1f4d1;\n",
              "        }    #T_7fa5f89e_39cf_11e8_aa94_005056c00008row9_col7 {\n",
              "            background-color:  #d3f5d3;\n",
              "        }    #T_7fa5f89e_39cf_11e8_aa94_005056c00008row10_col0 {\n",
              "            background-color:  #e5ffe5;\n",
              "        }    #T_7fa5f89e_39cf_11e8_aa94_005056c00008row10_col1 {\n",
              "            background-color:  #e5ffe5;\n",
              "        }    #T_7fa5f89e_39cf_11e8_aa94_005056c00008row10_col2 {\n",
              "            background-color:  #e5ffe5;\n",
              "        }    #T_7fa5f89e_39cf_11e8_aa94_005056c00008row10_col3 {\n",
              "            background-color:  #e5ffe5;\n",
              "        }    #T_7fa5f89e_39cf_11e8_aa94_005056c00008row10_col4 {\n",
              "            background-color:  #e5ffe5;\n",
              "        }    #T_7fa5f89e_39cf_11e8_aa94_005056c00008row10_col5 {\n",
              "            background-color:  #e5ffe5;\n",
              "        }    #T_7fa5f89e_39cf_11e8_aa94_005056c00008row10_col6 {\n",
              "            background-color:  #e5ffe5;\n",
              "        }    #T_7fa5f89e_39cf_11e8_aa94_005056c00008row10_col7 {\n",
              "            background-color:  #e5ffe5;\n",
              "        }    #T_7fa5f89e_39cf_11e8_aa94_005056c00008row11_col0 {\n",
              "            background-color:  #dbf9db;\n",
              "        }    #T_7fa5f89e_39cf_11e8_aa94_005056c00008row11_col1 {\n",
              "            background-color:  #e3fee3;\n",
              "        }    #T_7fa5f89e_39cf_11e8_aa94_005056c00008row11_col2 {\n",
              "            background-color:  #e0fce0;\n",
              "        }    #T_7fa5f89e_39cf_11e8_aa94_005056c00008row11_col3 {\n",
              "            background-color:  #e0fce0;\n",
              "        }    #T_7fa5f89e_39cf_11e8_aa94_005056c00008row11_col4 {\n",
              "            background-color:  #e1fde1;\n",
              "        }    #T_7fa5f89e_39cf_11e8_aa94_005056c00008row11_col5 {\n",
              "            background-color:  #e1fde1;\n",
              "        }    #T_7fa5f89e_39cf_11e8_aa94_005056c00008row11_col6 {\n",
              "            background-color:  #defbde;\n",
              "        }    #T_7fa5f89e_39cf_11e8_aa94_005056c00008row11_col7 {\n",
              "            background-color:  #e0fce0;\n",
              "        }    #T_7fa5f89e_39cf_11e8_aa94_005056c00008row12_col0 {\n",
              "            background-color:  #e4fee4;\n",
              "        }    #T_7fa5f89e_39cf_11e8_aa94_005056c00008row12_col1 {\n",
              "            background-color:  #e4fee4;\n",
              "        }    #T_7fa5f89e_39cf_11e8_aa94_005056c00008row12_col2 {\n",
              "            background-color:  #e4fee4;\n",
              "        }    #T_7fa5f89e_39cf_11e8_aa94_005056c00008row12_col3 {\n",
              "            background-color:  #e4fee4;\n",
              "        }    #T_7fa5f89e_39cf_11e8_aa94_005056c00008row12_col4 {\n",
              "            background-color:  #e4fee4;\n",
              "        }    #T_7fa5f89e_39cf_11e8_aa94_005056c00008row12_col5 {\n",
              "            background-color:  #e3fee3;\n",
              "        }    #T_7fa5f89e_39cf_11e8_aa94_005056c00008row12_col6 {\n",
              "            background-color:  #e3fee3;\n",
              "        }    #T_7fa5f89e_39cf_11e8_aa94_005056c00008row12_col7 {\n",
              "            background-color:  #e4fee4;\n",
              "        }    #T_7fa5f89e_39cf_11e8_aa94_005056c00008row13_col0 {\n",
              "            background-color:  #e4fee4;\n",
              "        }    #T_7fa5f89e_39cf_11e8_aa94_005056c00008row13_col1 {\n",
              "            background-color:  #e5ffe5;\n",
              "        }    #T_7fa5f89e_39cf_11e8_aa94_005056c00008row13_col2 {\n",
              "            background-color:  #e5ffe5;\n",
              "        }    #T_7fa5f89e_39cf_11e8_aa94_005056c00008row13_col3 {\n",
              "            background-color:  #e3fee3;\n",
              "        }    #T_7fa5f89e_39cf_11e8_aa94_005056c00008row13_col4 {\n",
              "            background-color:  #e5ffe5;\n",
              "        }    #T_7fa5f89e_39cf_11e8_aa94_005056c00008row13_col5 {\n",
              "            background-color:  #e5ffe5;\n",
              "        }    #T_7fa5f89e_39cf_11e8_aa94_005056c00008row13_col6 {\n",
              "            background-color:  #e5ffe5;\n",
              "        }    #T_7fa5f89e_39cf_11e8_aa94_005056c00008row13_col7 {\n",
              "            background-color:  #e5ffe5;\n",
              "        }</style>  \n",
              "<table id=\"T_7fa5f89e_39cf_11e8_aa94_005056c00008\" > \n",
              "<thead>    <tr> \n",
              "        <th class=\"index_name level0\" >loan_status</th> \n",
              "        <th class=\"col_heading level0 col0\" >Charged Off</th> \n",
              "        <th class=\"col_heading level0 col1\" >Current</th> \n",
              "        <th class=\"col_heading level0 col2\" >Default</th> \n",
              "        <th class=\"col_heading level0 col3\" >Fully Paid</th> \n",
              "        <th class=\"col_heading level0 col4\" >In Grace Period</th> \n",
              "        <th class=\"col_heading level0 col5\" >Issued</th> \n",
              "        <th class=\"col_heading level0 col6\" >Late (16-30 days)</th> \n",
              "        <th class=\"col_heading level0 col7\" >Late (31-120 days)</th> \n",
              "    </tr>    <tr> \n",
              "        <th class=\"index_name level0\" >purpose</th> \n",
              "        <th class=\"blank\" ></th> \n",
              "        <th class=\"blank\" ></th> \n",
              "        <th class=\"blank\" ></th> \n",
              "        <th class=\"blank\" ></th> \n",
              "        <th class=\"blank\" ></th> \n",
              "        <th class=\"blank\" ></th> \n",
              "        <th class=\"blank\" ></th> \n",
              "        <th class=\"blank\" ></th> \n",
              "    </tr></thead> \n",
              "<tbody>    <tr> \n",
              "        <th id=\"T_7fa5f89e_39cf_11e8_aa94_005056c00008level0_row0\" class=\"row_heading level0 row0\" >car</th> \n",
              "        <td id=\"T_7fa5f89e_39cf_11e8_aa94_005056c00008row0_col0\" class=\"data row0 col0\" >461</td> \n",
              "        <td id=\"T_7fa5f89e_39cf_11e8_aa94_005056c00008row0_col1\" class=\"data row0 col1\" >4937</td> \n",
              "        <td id=\"T_7fa5f89e_39cf_11e8_aa94_005056c00008row0_col2\" class=\"data row0 col2\" >10</td> \n",
              "        <td id=\"T_7fa5f89e_39cf_11e8_aa94_005056c00008row0_col3\" class=\"data row0 col3\" >3249</td> \n",
              "        <td id=\"T_7fa5f89e_39cf_11e8_aa94_005056c00008row0_col4\" class=\"data row0 col4\" >40</td> \n",
              "        <td id=\"T_7fa5f89e_39cf_11e8_aa94_005056c00008row0_col5\" class=\"data row0 col5\" >81</td> \n",
              "        <td id=\"T_7fa5f89e_39cf_11e8_aa94_005056c00008row0_col6\" class=\"data row0 col6\" >15</td> \n",
              "        <td id=\"T_7fa5f89e_39cf_11e8_aa94_005056c00008row0_col7\" class=\"data row0 col7\" >70</td> \n",
              "    </tr>    <tr> \n",
              "        <th id=\"T_7fa5f89e_39cf_11e8_aa94_005056c00008level0_row1\" class=\"row_heading level0 row1\" >credit_card</th> \n",
              "        <td id=\"T_7fa5f89e_39cf_11e8_aa94_005056c00008row1_col0\" class=\"data row1 col0\" >7895</td> \n",
              "        <td id=\"T_7fa5f89e_39cf_11e8_aa94_005056c00008row1_col1\" class=\"data row1 col1\" >149835</td> \n",
              "        <td id=\"T_7fa5f89e_39cf_11e8_aa94_005056c00008row1_col2\" class=\"data row1 col2\" >233</td> \n",
              "        <td id=\"T_7fa5f89e_39cf_11e8_aa94_005056c00008row1_col3\" class=\"data row1 col3\" >42521</td> \n",
              "        <td id=\"T_7fa5f89e_39cf_11e8_aa94_005056c00008row1_col4\" class=\"data row1 col4\" >1150</td> \n",
              "        <td id=\"T_7fa5f89e_39cf_11e8_aa94_005056c00008row1_col5\" class=\"data row1 col5\" >2071</td> \n",
              "        <td id=\"T_7fa5f89e_39cf_11e8_aa94_005056c00008row1_col6\" class=\"data row1 col6\" >381</td> \n",
              "        <td id=\"T_7fa5f89e_39cf_11e8_aa94_005056c00008row1_col7\" class=\"data row1 col7\" >2096</td> \n",
              "    </tr>    <tr> \n",
              "        <th id=\"T_7fa5f89e_39cf_11e8_aa94_005056c00008level0_row2\" class=\"row_heading level0 row2\" >debt_consolidation</th> \n",
              "        <td id=\"T_7fa5f89e_39cf_11e8_aa94_005056c00008row2_col0\" class=\"data row2 col0\" >27891</td> \n",
              "        <td id=\"T_7fa5f89e_39cf_11e8_aa94_005056c00008row2_col1\" class=\"data row2 col1\" >356239</td> \n",
              "        <td id=\"T_7fa5f89e_39cf_11e8_aa94_005056c00008row2_col2\" class=\"data row2 col2\" >790</td> \n",
              "        <td id=\"T_7fa5f89e_39cf_11e8_aa94_005056c00008row2_col3\" class=\"data row2 col3\" >121572</td> \n",
              "        <td id=\"T_7fa5f89e_39cf_11e8_aa94_005056c00008row2_col4\" class=\"data row2 col4\" >3998</td> \n",
              "        <td id=\"T_7fa5f89e_39cf_11e8_aa94_005056c00008row2_col5\" class=\"data row2 col5\" >4796</td> \n",
              "        <td id=\"T_7fa5f89e_39cf_11e8_aa94_005056c00008row2_col6\" class=\"data row2 col6\" >1510</td> \n",
              "        <td id=\"T_7fa5f89e_39cf_11e8_aa94_005056c00008row2_col7\" class=\"data row2 col7\" >7419</td> \n",
              "    </tr>    <tr> \n",
              "        <th id=\"T_7fa5f89e_39cf_11e8_aa94_005056c00008level0_row3\" class=\"row_heading level0 row3\" >educational</th> \n",
              "        <td id=\"T_7fa5f89e_39cf_11e8_aa94_005056c00008row3_col0\" class=\"data row3 col0\" >88</td> \n",
              "        <td id=\"T_7fa5f89e_39cf_11e8_aa94_005056c00008row3_col1\" class=\"data row3 col1\" >1</td> \n",
              "        <td id=\"T_7fa5f89e_39cf_11e8_aa94_005056c00008row3_col2\" class=\"data row3 col2\" >0</td> \n",
              "        <td id=\"T_7fa5f89e_39cf_11e8_aa94_005056c00008row3_col3\" class=\"data row3 col3\" >334</td> \n",
              "        <td id=\"T_7fa5f89e_39cf_11e8_aa94_005056c00008row3_col4\" class=\"data row3 col4\" >0</td> \n",
              "        <td id=\"T_7fa5f89e_39cf_11e8_aa94_005056c00008row3_col5\" class=\"data row3 col5\" >0</td> \n",
              "        <td id=\"T_7fa5f89e_39cf_11e8_aa94_005056c00008row3_col6\" class=\"data row3 col6\" >0</td> \n",
              "        <td id=\"T_7fa5f89e_39cf_11e8_aa94_005056c00008row3_col7\" class=\"data row3 col7\" >0</td> \n",
              "    </tr>    <tr> \n",
              "        <th id=\"T_7fa5f89e_39cf_11e8_aa94_005056c00008level0_row4\" class=\"row_heading level0 row4\" >home_improvement</th> \n",
              "        <td id=\"T_7fa5f89e_39cf_11e8_aa94_005056c00008row4_col0\" class=\"data row4 col0\" >2340</td> \n",
              "        <td id=\"T_7fa5f89e_39cf_11e8_aa94_005056c00008row4_col1\" class=\"data row4 col1\" >34980</td> \n",
              "        <td id=\"T_7fa5f89e_39cf_11e8_aa94_005056c00008row4_col2\" class=\"data row4 col2\" >47</td> \n",
              "        <td id=\"T_7fa5f89e_39cf_11e8_aa94_005056c00008row4_col3\" class=\"data row4 col3\" >12803</td> \n",
              "        <td id=\"T_7fa5f89e_39cf_11e8_aa94_005056c00008row4_col4\" class=\"data row4 col4\" >367</td> \n",
              "        <td id=\"T_7fa5f89e_39cf_11e8_aa94_005056c00008row4_col5\" class=\"data row4 col5\" >493</td> \n",
              "        <td id=\"T_7fa5f89e_39cf_11e8_aa94_005056c00008row4_col6\" class=\"data row4 col6\" >137</td> \n",
              "        <td id=\"T_7fa5f89e_39cf_11e8_aa94_005056c00008row4_col7\" class=\"data row4 col7\" >662</td> \n",
              "    </tr>    <tr> \n",
              "        <th id=\"T_7fa5f89e_39cf_11e8_aa94_005056c00008level0_row5\" class=\"row_heading level0 row5\" >house</th> \n",
              "        <td id=\"T_7fa5f89e_39cf_11e8_aa94_005056c00008row5_col0\" class=\"data row5 col0\" >297</td> \n",
              "        <td id=\"T_7fa5f89e_39cf_11e8_aa94_005056c00008row5_col1\" class=\"data row5 col1\" >1854</td> \n",
              "        <td id=\"T_7fa5f89e_39cf_11e8_aa94_005056c00008row5_col2\" class=\"data row5 col2\" >7</td> \n",
              "        <td id=\"T_7fa5f89e_39cf_11e8_aa94_005056c00008row5_col3\" class=\"data row5 col3\" >1399</td> \n",
              "        <td id=\"T_7fa5f89e_39cf_11e8_aa94_005056c00008row5_col4\" class=\"data row5 col4\" >37</td> \n",
              "        <td id=\"T_7fa5f89e_39cf_11e8_aa94_005056c00008row5_col5\" class=\"data row5 col5\" >37</td> \n",
              "        <td id=\"T_7fa5f89e_39cf_11e8_aa94_005056c00008row5_col6\" class=\"data row5 col6\" >15</td> \n",
              "        <td id=\"T_7fa5f89e_39cf_11e8_aa94_005056c00008row5_col7\" class=\"data row5 col7\" >61</td> \n",
              "    </tr>    <tr> \n",
              "        <th id=\"T_7fa5f89e_39cf_11e8_aa94_005056c00008level0_row6\" class=\"row_heading level0 row6\" >major_purchase</th> \n",
              "        <td id=\"T_7fa5f89e_39cf_11e8_aa94_005056c00008row6_col0\" class=\"data row6 col0\" >897</td> \n",
              "        <td id=\"T_7fa5f89e_39cf_11e8_aa94_005056c00008row6_col1\" class=\"data row6 col1\" >10308</td> \n",
              "        <td id=\"T_7fa5f89e_39cf_11e8_aa94_005056c00008row6_col2\" class=\"data row6 col2\" >14</td> \n",
              "        <td id=\"T_7fa5f89e_39cf_11e8_aa94_005056c00008row6_col3\" class=\"data row6 col3\" >5491</td> \n",
              "        <td id=\"T_7fa5f89e_39cf_11e8_aa94_005056c00008row6_col4\" class=\"data row6 col4\" >125</td> \n",
              "        <td id=\"T_7fa5f89e_39cf_11e8_aa94_005056c00008row6_col5\" class=\"data row6 col5\" >184</td> \n",
              "        <td id=\"T_7fa5f89e_39cf_11e8_aa94_005056c00008row6_col6\" class=\"data row6 col6\" >51</td> \n",
              "        <td id=\"T_7fa5f89e_39cf_11e8_aa94_005056c00008row6_col7\" class=\"data row6 col7\" >207</td> \n",
              "    </tr>    <tr> \n",
              "        <th id=\"T_7fa5f89e_39cf_11e8_aa94_005056c00008level0_row7\" class=\"row_heading level0 row7\" >medical</th> \n",
              "        <td id=\"T_7fa5f89e_39cf_11e8_aa94_005056c00008row7_col0\" class=\"data row7 col0\" >591</td> \n",
              "        <td id=\"T_7fa5f89e_39cf_11e8_aa94_005056c00008row7_col1\" class=\"data row7 col1\" >5324</td> \n",
              "        <td id=\"T_7fa5f89e_39cf_11e8_aa94_005056c00008row7_col2\" class=\"data row7 col2\" >15</td> \n",
              "        <td id=\"T_7fa5f89e_39cf_11e8_aa94_005056c00008row7_col3\" class=\"data row7 col3\" >2321</td> \n",
              "        <td id=\"T_7fa5f89e_39cf_11e8_aa94_005056c00008row7_col4\" class=\"data row7 col4\" >56</td> \n",
              "        <td id=\"T_7fa5f89e_39cf_11e8_aa94_005056c00008row7_col5\" class=\"data row7 col5\" >91</td> \n",
              "        <td id=\"T_7fa5f89e_39cf_11e8_aa94_005056c00008row7_col6\" class=\"data row7 col6\" >17</td> \n",
              "        <td id=\"T_7fa5f89e_39cf_11e8_aa94_005056c00008row7_col7\" class=\"data row7 col7\" >125</td> \n",
              "    </tr>    <tr> \n",
              "        <th id=\"T_7fa5f89e_39cf_11e8_aa94_005056c00008level0_row8\" class=\"row_heading level0 row8\" >moving</th> \n",
              "        <td id=\"T_7fa5f89e_39cf_11e8_aa94_005056c00008row8_col0\" class=\"data row8 col0\" >440</td> \n",
              "        <td id=\"T_7fa5f89e_39cf_11e8_aa94_005056c00008row8_col1\" class=\"data row8 col1\" >3121</td> \n",
              "        <td id=\"T_7fa5f89e_39cf_11e8_aa94_005056c00008row8_col2\" class=\"data row8 col2\" >11</td> \n",
              "        <td id=\"T_7fa5f89e_39cf_11e8_aa94_005056c00008row8_col3\" class=\"data row8 col3\" >1634</td> \n",
              "        <td id=\"T_7fa5f89e_39cf_11e8_aa94_005056c00008row8_col4\" class=\"data row8 col4\" >43</td> \n",
              "        <td id=\"T_7fa5f89e_39cf_11e8_aa94_005056c00008row8_col5\" class=\"data row8 col5\" >52</td> \n",
              "        <td id=\"T_7fa5f89e_39cf_11e8_aa94_005056c00008row8_col6\" class=\"data row8 col6\" >23</td> \n",
              "        <td id=\"T_7fa5f89e_39cf_11e8_aa94_005056c00008row8_col7\" class=\"data row8 col7\" >90</td> \n",
              "    </tr>    <tr> \n",
              "        <th id=\"T_7fa5f89e_39cf_11e8_aa94_005056c00008level0_row9\" class=\"row_heading level0 row9\" >other</th> \n",
              "        <td id=\"T_7fa5f89e_39cf_11e8_aa94_005056c00008row9_col0\" class=\"data row9 col0\" >3057</td> \n",
              "        <td id=\"T_7fa5f89e_39cf_11e8_aa94_005056c00008row9_col1\" class=\"data row9 col1\" >26607</td> \n",
              "        <td id=\"T_7fa5f89e_39cf_11e8_aa94_005056c00008row9_col2\" class=\"data row9 col2\" >65</td> \n",
              "        <td id=\"T_7fa5f89e_39cf_11e8_aa94_005056c00008row9_col3\" class=\"data row9 col3\" >11644</td> \n",
              "        <td id=\"T_7fa5f89e_39cf_11e8_aa94_005056c00008row9_col4\" class=\"data row9 col4\" >310</td> \n",
              "        <td id=\"T_7fa5f89e_39cf_11e8_aa94_005056c00008row9_col5\" class=\"data row9 col5\" >480</td> \n",
              "        <td id=\"T_7fa5f89e_39cf_11e8_aa94_005056c00008row9_col6\" class=\"data row9 col6\" >136</td> \n",
              "        <td id=\"T_7fa5f89e_39cf_11e8_aa94_005056c00008row9_col7\" class=\"data row9 col7\" >595</td> \n",
              "    </tr>    <tr> \n",
              "        <th id=\"T_7fa5f89e_39cf_11e8_aa94_005056c00008level0_row10\" class=\"row_heading level0 row10\" >renewable_energy</th> \n",
              "        <td id=\"T_7fa5f89e_39cf_11e8_aa94_005056c00008row10_col0\" class=\"data row10 col0\" >55</td> \n",
              "        <td id=\"T_7fa5f89e_39cf_11e8_aa94_005056c00008row10_col1\" class=\"data row10 col1\" >282</td> \n",
              "        <td id=\"T_7fa5f89e_39cf_11e8_aa94_005056c00008row10_col2\" class=\"data row10 col2\" >0</td> \n",
              "        <td id=\"T_7fa5f89e_39cf_11e8_aa94_005056c00008row10_col3\" class=\"data row10 col3\" >215</td> \n",
              "        <td id=\"T_7fa5f89e_39cf_11e8_aa94_005056c00008row10_col4\" class=\"data row10 col4\" >8</td> \n",
              "        <td id=\"T_7fa5f89e_39cf_11e8_aa94_005056c00008row10_col5\" class=\"data row10 col5\" >6</td> \n",
              "        <td id=\"T_7fa5f89e_39cf_11e8_aa94_005056c00008row10_col6\" class=\"data row10 col6\" >0</td> \n",
              "        <td id=\"T_7fa5f89e_39cf_11e8_aa94_005056c00008row10_col7\" class=\"data row10 col7\" >9</td> \n",
              "    </tr>    <tr> \n",
              "        <th id=\"T_7fa5f89e_39cf_11e8_aa94_005056c00008level0_row11\" class=\"row_heading level0 row11\" >small_business</th> \n",
              "        <td id=\"T_7fa5f89e_39cf_11e8_aa94_005056c00008row11_col0\" class=\"data row11 col0\" >1443</td> \n",
              "        <td id=\"T_7fa5f89e_39cf_11e8_aa94_005056c00008row11_col1\" class=\"data row11 col1\" >5020</td> \n",
              "        <td id=\"T_7fa5f89e_39cf_11e8_aa94_005056c00008row11_col2\" class=\"data row11 col2\" >19</td> \n",
              "        <td id=\"T_7fa5f89e_39cf_11e8_aa94_005056c00008row11_col3\" class=\"data row11 col3\" >3464</td> \n",
              "        <td id=\"T_7fa5f89e_39cf_11e8_aa94_005056c00008row11_col4\" class=\"data row11 col4\" >79</td> \n",
              "        <td id=\"T_7fa5f89e_39cf_11e8_aa94_005056c00008row11_col5\" class=\"data row11 col5\" >112</td> \n",
              "        <td id=\"T_7fa5f89e_39cf_11e8_aa94_005056c00008row11_col6\" class=\"data row11 col6\" >50</td> \n",
              "        <td id=\"T_7fa5f89e_39cf_11e8_aa94_005056c00008row11_col7\" class=\"data row11 col7\" >190</td> \n",
              "    </tr>    <tr> \n",
              "        <th id=\"T_7fa5f89e_39cf_11e8_aa94_005056c00008level0_row12\" class=\"row_heading level0 row12\" >vacation</th> \n",
              "        <td id=\"T_7fa5f89e_39cf_11e8_aa94_005056c00008row12_col0\" class=\"data row12 col0\" >276</td> \n",
              "        <td id=\"T_7fa5f89e_39cf_11e8_aa94_005056c00008row12_col1\" class=\"data row12 col1\" >2946</td> \n",
              "        <td id=\"T_7fa5f89e_39cf_11e8_aa94_005056c00008row12_col2\" class=\"data row12 col2\" >8</td> \n",
              "        <td id=\"T_7fa5f89e_39cf_11e8_aa94_005056c00008row12_col3\" class=\"data row12 col3\" >1331</td> \n",
              "        <td id=\"T_7fa5f89e_39cf_11e8_aa94_005056c00008row12_col4\" class=\"data row12 col4\" >37</td> \n",
              "        <td id=\"T_7fa5f89e_39cf_11e8_aa94_005056c00008row12_col5\" class=\"data row12 col5\" >57</td> \n",
              "        <td id=\"T_7fa5f89e_39cf_11e8_aa94_005056c00008row12_col6\" class=\"data row12 col6\" >22</td> \n",
              "        <td id=\"T_7fa5f89e_39cf_11e8_aa94_005056c00008row12_col7\" class=\"data row12 col7\" >59</td> \n",
              "    </tr>    <tr> \n",
              "        <th id=\"T_7fa5f89e_39cf_11e8_aa94_005056c00008level0_row13\" class=\"row_heading level0 row13\" >wedding</th> \n",
              "        <td id=\"T_7fa5f89e_39cf_11e8_aa94_005056c00008row13_col0\" class=\"data row13 col0\" >278</td> \n",
              "        <td id=\"T_7fa5f89e_39cf_11e8_aa94_005056c00008row13_col1\" class=\"data row13 col1\" >325</td> \n",
              "        <td id=\"T_7fa5f89e_39cf_11e8_aa94_005056c00008row13_col2\" class=\"data row13 col2\" >0</td> \n",
              "        <td id=\"T_7fa5f89e_39cf_11e8_aa94_005056c00008row13_col3\" class=\"data row13 col3\" >1733</td> \n",
              "        <td id=\"T_7fa5f89e_39cf_11e8_aa94_005056c00008row13_col4\" class=\"data row13 col4\" >3</td> \n",
              "        <td id=\"T_7fa5f89e_39cf_11e8_aa94_005056c00008row13_col5\" class=\"data row13 col5\" >0</td> \n",
              "        <td id=\"T_7fa5f89e_39cf_11e8_aa94_005056c00008row13_col6\" class=\"data row13 col6\" >0</td> \n",
              "        <td id=\"T_7fa5f89e_39cf_11e8_aa94_005056c00008row13_col7\" class=\"data row13 col7\" >8</td> \n",
              "    </tr></tbody> \n",
              "</table> "
            ],
            "text/plain": [
              "<pandas.io.formats.style.Styler at 0x1fc87358>"
            ]
          },
          "metadata": {
            "tags": []
          },
          "execution_count": 119
        }
      ]
    },
    {
      "cell_type": "markdown",
      "metadata": {
        "id": "DMKLuaL_4b9o",
        "colab_type": "text"
      },
      "source": [
        "### Crossbat table by loan status and grade"
      ]
    },
    {
      "cell_type": "code",
      "metadata": {
        "ExecuteTime": {
          "end_time": "2018-04-06T01:38:03.372934Z",
          "start_time": "2018-04-06T01:38:03.039697Z"
        },
        "scrolled": true,
        "id": "LTDjdLJ44b9o",
        "colab_type": "code",
        "outputId": "0c9f0d2b-966c-4bf8-b560-14865576fe04",
        "colab": {}
      },
      "source": [
        "loan_grade = ['loan_status', 'grade']\n",
        "cm = sns.light_palette(\"orange\", as_cmap=True)\n",
        "pd.crosstab(for_analysis[loan_grade[0]], for_analysis[loan_grade[1]]).style.background_gradient(cmap = cm)"
      ],
      "execution_count": 0,
      "outputs": [
        {
          "output_type": "execute_result",
          "data": {
            "text/html": [
              "<style  type=\"text/css\" >\n",
              "    #T_81a84ee2_39cf_11e8_9b30_005056c00008row0_col0 {\n",
              "            background-color:  #fff4e0;\n",
              "        }    #T_81a84ee2_39cf_11e8_9b30_005056c00008row0_col1 {\n",
              "            background-color:  #fff2d9;\n",
              "        }    #T_81a84ee2_39cf_11e8_9b30_005056c00008row0_col2 {\n",
              "            background-color:  #fff0d5;\n",
              "        }    #T_81a84ee2_39cf_11e8_9b30_005056c00008row0_col3 {\n",
              "            background-color:  #ffedcc;\n",
              "        }    #T_81a84ee2_39cf_11e8_9b30_005056c00008row0_col4 {\n",
              "            background-color:  #ffecc8;\n",
              "        }    #T_81a84ee2_39cf_11e8_9b30_005056c00008row0_col5 {\n",
              "            background-color:  #ffe5b4;\n",
              "        }    #T_81a84ee2_39cf_11e8_9b30_005056c00008row0_col6 {\n",
              "            background-color:  #ffdea3;\n",
              "        }    #T_81a84ee2_39cf_11e8_9b30_005056c00008row1_col0 {\n",
              "            background-color:  #ffa500;\n",
              "        }    #T_81a84ee2_39cf_11e8_9b30_005056c00008row1_col1 {\n",
              "            background-color:  #ffa500;\n",
              "        }    #T_81a84ee2_39cf_11e8_9b30_005056c00008row1_col2 {\n",
              "            background-color:  #ffa500;\n",
              "        }    #T_81a84ee2_39cf_11e8_9b30_005056c00008row1_col3 {\n",
              "            background-color:  #ffa500;\n",
              "        }    #T_81a84ee2_39cf_11e8_9b30_005056c00008row1_col4 {\n",
              "            background-color:  #ffa500;\n",
              "        }    #T_81a84ee2_39cf_11e8_9b30_005056c00008row1_col5 {\n",
              "            background-color:  #ffa500;\n",
              "        }    #T_81a84ee2_39cf_11e8_9b30_005056c00008row1_col6 {\n",
              "            background-color:  #ffa500;\n",
              "        }    #T_81a84ee2_39cf_11e8_9b30_005056c00008row2_col0 {\n",
              "            background-color:  #fff6e5;\n",
              "        }    #T_81a84ee2_39cf_11e8_9b30_005056c00008row2_col1 {\n",
              "            background-color:  #fff6e5;\n",
              "        }    #T_81a84ee2_39cf_11e8_9b30_005056c00008row2_col2 {\n",
              "            background-color:  #fff6e5;\n",
              "        }    #T_81a84ee2_39cf_11e8_9b30_005056c00008row2_col3 {\n",
              "            background-color:  #fff6e5;\n",
              "        }    #T_81a84ee2_39cf_11e8_9b30_005056c00008row2_col4 {\n",
              "            background-color:  #fff6e5;\n",
              "        }    #T_81a84ee2_39cf_11e8_9b30_005056c00008row2_col5 {\n",
              "            background-color:  #fff6e5;\n",
              "        }    #T_81a84ee2_39cf_11e8_9b30_005056c00008row2_col6 {\n",
              "            background-color:  #fff6e5;\n",
              "        }    #T_81a84ee2_39cf_11e8_9b30_005056c00008row3_col0 {\n",
              "            background-color:  #ffd78d;\n",
              "        }    #T_81a84ee2_39cf_11e8_9b30_005056c00008row3_col1 {\n",
              "            background-color:  #ffd78c;\n",
              "        }    #T_81a84ee2_39cf_11e8_9b30_005056c00008row3_col2 {\n",
              "            background-color:  #ffdd9e;\n",
              "        }    #T_81a84ee2_39cf_11e8_9b30_005056c00008row3_col3 {\n",
              "            background-color:  #ffdb9a;\n",
              "        }    #T_81a84ee2_39cf_11e8_9b30_005056c00008row3_col4 {\n",
              "            background-color:  #ffdfa6;\n",
              "        }    #T_81a84ee2_39cf_11e8_9b30_005056c00008row3_col5 {\n",
              "            background-color:  #ffd994;\n",
              "        }    #T_81a84ee2_39cf_11e8_9b30_005056c00008row3_col6 {\n",
              "            background-color:  #ffd382;\n",
              "        }    #T_81a84ee2_39cf_11e8_9b30_005056c00008row4_col0 {\n",
              "            background-color:  #fff6e5;\n",
              "        }    #T_81a84ee2_39cf_11e8_9b30_005056c00008row4_col1 {\n",
              "            background-color:  #fff6e5;\n",
              "        }    #T_81a84ee2_39cf_11e8_9b30_005056c00008row4_col2 {\n",
              "            background-color:  #fff5e4;\n",
              "        }    #T_81a84ee2_39cf_11e8_9b30_005056c00008row4_col3 {\n",
              "            background-color:  #fff5e3;\n",
              "        }    #T_81a84ee2_39cf_11e8_9b30_005056c00008row4_col4 {\n",
              "            background-color:  #fff5e3;\n",
              "        }    #T_81a84ee2_39cf_11e8_9b30_005056c00008row4_col5 {\n",
              "            background-color:  #fff4e1;\n",
              "        }    #T_81a84ee2_39cf_11e8_9b30_005056c00008row4_col6 {\n",
              "            background-color:  #fff4e0;\n",
              "        }    #T_81a84ee2_39cf_11e8_9b30_005056c00008row5_col0 {\n",
              "            background-color:  #fff5e3;\n",
              "        }    #T_81a84ee2_39cf_11e8_9b30_005056c00008row5_col1 {\n",
              "            background-color:  #fff5e3;\n",
              "        }    #T_81a84ee2_39cf_11e8_9b30_005056c00008row5_col2 {\n",
              "            background-color:  #fff5e3;\n",
              "        }    #T_81a84ee2_39cf_11e8_9b30_005056c00008row5_col3 {\n",
              "            background-color:  #fff5e4;\n",
              "        }    #T_81a84ee2_39cf_11e8_9b30_005056c00008row5_col4 {\n",
              "            background-color:  #fff5e4;\n",
              "        }    #T_81a84ee2_39cf_11e8_9b30_005056c00008row5_col5 {\n",
              "            background-color:  #fff5e4;\n",
              "        }    #T_81a84ee2_39cf_11e8_9b30_005056c00008row5_col6 {\n",
              "            background-color:  #fff6e5;\n",
              "        }    #T_81a84ee2_39cf_11e8_9b30_005056c00008row6_col0 {\n",
              "            background-color:  #fff6e5;\n",
              "        }    #T_81a84ee2_39cf_11e8_9b30_005056c00008row6_col1 {\n",
              "            background-color:  #fff6e5;\n",
              "        }    #T_81a84ee2_39cf_11e8_9b30_005056c00008row6_col2 {\n",
              "            background-color:  #fff6e5;\n",
              "        }    #T_81a84ee2_39cf_11e8_9b30_005056c00008row6_col3 {\n",
              "            background-color:  #fff6e5;\n",
              "        }    #T_81a84ee2_39cf_11e8_9b30_005056c00008row6_col4 {\n",
              "            background-color:  #fff6e5;\n",
              "        }    #T_81a84ee2_39cf_11e8_9b30_005056c00008row6_col5 {\n",
              "            background-color:  #fff6e5;\n",
              "        }    #T_81a84ee2_39cf_11e8_9b30_005056c00008row6_col6 {\n",
              "            background-color:  #fff6e5;\n",
              "        }    #T_81a84ee2_39cf_11e8_9b30_005056c00008row7_col0 {\n",
              "            background-color:  #fff6e5;\n",
              "        }    #T_81a84ee2_39cf_11e8_9b30_005056c00008row7_col1 {\n",
              "            background-color:  #fff5e4;\n",
              "        }    #T_81a84ee2_39cf_11e8_9b30_005056c00008row7_col2 {\n",
              "            background-color:  #fff5e2;\n",
              "        }    #T_81a84ee2_39cf_11e8_9b30_005056c00008row7_col3 {\n",
              "            background-color:  #fff4df;\n",
              "        }    #T_81a84ee2_39cf_11e8_9b30_005056c00008row7_col4 {\n",
              "            background-color:  #fff3dd;\n",
              "        }    #T_81a84ee2_39cf_11e8_9b30_005056c00008row7_col5 {\n",
              "            background-color:  #fff2da;\n",
              "        }    #T_81a84ee2_39cf_11e8_9b30_005056c00008row7_col6 {\n",
              "            background-color:  #fff0d4;\n",
              "        }</style>  \n",
              "<table id=\"T_81a84ee2_39cf_11e8_9b30_005056c00008\" > \n",
              "<thead>    <tr> \n",
              "        <th class=\"index_name level0\" >grade</th> \n",
              "        <th class=\"col_heading level0 col0\" >A</th> \n",
              "        <th class=\"col_heading level0 col1\" >B</th> \n",
              "        <th class=\"col_heading level0 col2\" >C</th> \n",
              "        <th class=\"col_heading level0 col3\" >D</th> \n",
              "        <th class=\"col_heading level0 col4\" >E</th> \n",
              "        <th class=\"col_heading level0 col5\" >F</th> \n",
              "        <th class=\"col_heading level0 col6\" >G</th> \n",
              "    </tr>    <tr> \n",
              "        <th class=\"index_name level0\" >loan_status</th> \n",
              "        <th class=\"blank\" ></th> \n",
              "        <th class=\"blank\" ></th> \n",
              "        <th class=\"blank\" ></th> \n",
              "        <th class=\"blank\" ></th> \n",
              "        <th class=\"blank\" ></th> \n",
              "        <th class=\"blank\" ></th> \n",
              "        <th class=\"blank\" ></th> \n",
              "    </tr></thead> \n",
              "<tbody>    <tr> \n",
              "        <th id=\"T_81a84ee2_39cf_11e8_9b30_005056c00008level0_row0\" class=\"row_heading level0 row0\" >Charged Off</th> \n",
              "        <td id=\"T_81a84ee2_39cf_11e8_9b30_005056c00008row0_col0\" class=\"data row0 col0\" >2625</td> \n",
              "        <td id=\"T_81a84ee2_39cf_11e8_9b30_005056c00008row0_col1\" class=\"data row0 col1\" >9604</td> \n",
              "        <td id=\"T_81a84ee2_39cf_11e8_9b30_005056c00008row0_col2\" class=\"data row0 col2\" >12790</td> \n",
              "        <td id=\"T_81a84ee2_39cf_11e8_9b30_005056c00008row0_col3\" class=\"data row0 col3\" >10683</td> \n",
              "        <td id=\"T_81a84ee2_39cf_11e8_9b30_005056c00008row0_col4\" class=\"data row0 col4\" >6416</td> \n",
              "        <td id=\"T_81a84ee2_39cf_11e8_9b30_005056c00008row0_col5\" class=\"data row0 col5\" >3027</td> \n",
              "        <td id=\"T_81a84ee2_39cf_11e8_9b30_005056c00008row0_col6\" class=\"data row0 col6\" >864</td> \n",
              "    </tr>    <tr> \n",
              "        <th id=\"T_81a84ee2_39cf_11e8_9b30_005056c00008level0_row1\" class=\"row_heading level0 row1\" >Current</th> \n",
              "        <td id=\"T_81a84ee2_39cf_11e8_9b30_005056c00008row1_col0\" class=\"data row1 col0\" >103322</td> \n",
              "        <td id=\"T_81a84ee2_39cf_11e8_9b30_005056c00008row1_col1\" class=\"data row1 col1\" >171735</td> \n",
              "        <td id=\"T_81a84ee2_39cf_11e8_9b30_005056c00008row1_col2\" class=\"data row1 col2\" >171175</td> \n",
              "        <td id=\"T_81a84ee2_39cf_11e8_9b30_005056c00008row1_col3\" class=\"data row1 col3\" >91984</td> \n",
              "        <td id=\"T_81a84ee2_39cf_11e8_9b30_005056c00008row1_col4\" class=\"data row1 col4\" >47061</td> \n",
              "        <td id=\"T_81a84ee2_39cf_11e8_9b30_005056c00008row1_col5\" class=\"data row1 col5\" >13589</td> \n",
              "        <td id=\"T_81a84ee2_39cf_11e8_9b30_005056c00008row1_col6\" class=\"data row1 col6\" >2913</td> \n",
              "    </tr>    <tr> \n",
              "        <th id=\"T_81a84ee2_39cf_11e8_9b30_005056c00008level0_row2\" class=\"row_heading level0 row2\" >Default</th> \n",
              "        <td id=\"T_81a84ee2_39cf_11e8_9b30_005056c00008row2_col0\" class=\"data row2 col0\" >47</td> \n",
              "        <td id=\"T_81a84ee2_39cf_11e8_9b30_005056c00008row2_col1\" class=\"data row2 col1\" >198</td> \n",
              "        <td id=\"T_81a84ee2_39cf_11e8_9b30_005056c00008row2_col2\" class=\"data row2 col2\" >360</td> \n",
              "        <td id=\"T_81a84ee2_39cf_11e8_9b30_005056c00008row2_col3\" class=\"data row2 col3\" >312</td> \n",
              "        <td id=\"T_81a84ee2_39cf_11e8_9b30_005056c00008row2_col4\" class=\"data row2 col4\" >201</td> \n",
              "        <td id=\"T_81a84ee2_39cf_11e8_9b30_005056c00008row2_col5\" class=\"data row2 col5\" >79</td> \n",
              "        <td id=\"T_81a84ee2_39cf_11e8_9b30_005056c00008row2_col6\" class=\"data row2 col6\" >22</td> \n",
              "    </tr>    <tr> \n",
              "        <th id=\"T_81a84ee2_39cf_11e8_9b30_005056c00008level0_row3\" class=\"row_heading level0 row3\" >Fully Paid</th> \n",
              "        <td id=\"T_81a84ee2_39cf_11e8_9b30_005056c00008row3_col0\" class=\"data row3 col0\" >39769</td> \n",
              "        <td id=\"T_81a84ee2_39cf_11e8_9b30_005056c00008row3_col1\" class=\"data row3 col1\" >66815</td> \n",
              "        <td id=\"T_81a84ee2_39cf_11e8_9b30_005056c00008row3_col2\" class=\"data row3 col2\" >53159</td> \n",
              "        <td id=\"T_81a84ee2_39cf_11e8_9b30_005056c00008row3_col3\" class=\"data row3 col3\" >30514</td> \n",
              "        <td id=\"T_81a84ee2_39cf_11e8_9b30_005056c00008row3_col4\" class=\"data row3 col4\" >13306</td> \n",
              "        <td id=\"T_81a84ee2_39cf_11e8_9b30_005056c00008row3_col5\" class=\"data row3 col5\" >4880</td> \n",
              "        <td id=\"T_81a84ee2_39cf_11e8_9b30_005056c00008row3_col6\" class=\"data row3 col6\" >1268</td> \n",
              "    </tr>    <tr> \n",
              "        <th id=\"T_81a84ee2_39cf_11e8_9b30_005056c00008level0_row4\" class=\"row_heading level0 row4\" >In Grace Period</th> \n",
              "        <td id=\"T_81a84ee2_39cf_11e8_9b30_005056c00008row4_col0\" class=\"data row4 col0\" >365</td> \n",
              "        <td id=\"T_81a84ee2_39cf_11e8_9b30_005056c00008row4_col1\" class=\"data row4 col1\" >1240</td> \n",
              "        <td id=\"T_81a84ee2_39cf_11e8_9b30_005056c00008row4_col2\" class=\"data row4 col2\" >1887</td> \n",
              "        <td id=\"T_81a84ee2_39cf_11e8_9b30_005056c00008row4_col3\" class=\"data row4 col3\" >1405</td> \n",
              "        <td id=\"T_81a84ee2_39cf_11e8_9b30_005056c00008row4_col4\" class=\"data row4 col4\" >908</td> \n",
              "        <td id=\"T_81a84ee2_39cf_11e8_9b30_005056c00008row4_col5\" class=\"data row4 col5\" >354</td> \n",
              "        <td id=\"T_81a84ee2_39cf_11e8_9b30_005056c00008row4_col6\" class=\"data row4 col6\" >94</td> \n",
              "    </tr>    <tr> \n",
              "        <th id=\"T_81a84ee2_39cf_11e8_9b30_005056c00008level0_row5\" class=\"row_heading level0 row5\" >Issued</th> \n",
              "        <td id=\"T_81a84ee2_39cf_11e8_9b30_005056c00008row5_col0\" class=\"data row5 col0\" >1448</td> \n",
              "        <td id=\"T_81a84ee2_39cf_11e8_9b30_005056c00008row5_col1\" class=\"data row5 col1\" >2529</td> \n",
              "        <td id=\"T_81a84ee2_39cf_11e8_9b30_005056c00008row5_col2\" class=\"data row5 col2\" >2472</td> \n",
              "        <td id=\"T_81a84ee2_39cf_11e8_9b30_005056c00008row5_col3\" class=\"data row5 col3\" >1185</td> \n",
              "        <td id=\"T_81a84ee2_39cf_11e8_9b30_005056c00008row5_col4\" class=\"data row5 col4\" >593</td> \n",
              "        <td id=\"T_81a84ee2_39cf_11e8_9b30_005056c00008row5_col5\" class=\"data row5 col5\" >194</td> \n",
              "        <td id=\"T_81a84ee2_39cf_11e8_9b30_005056c00008row5_col6\" class=\"data row5 col6\" >39</td> \n",
              "    </tr>    <tr> \n",
              "        <th id=\"T_81a84ee2_39cf_11e8_9b30_005056c00008level0_row6\" class=\"row_heading level0 row6\" >Late (16-30 days)</th> \n",
              "        <td id=\"T_81a84ee2_39cf_11e8_9b30_005056c00008row6_col0\" class=\"data row6 col0\" >134</td> \n",
              "        <td id=\"T_81a84ee2_39cf_11e8_9b30_005056c00008row6_col1\" class=\"data row6 col1\" >410</td> \n",
              "        <td id=\"T_81a84ee2_39cf_11e8_9b30_005056c00008row6_col2\" class=\"data row6 col2\" >678</td> \n",
              "        <td id=\"T_81a84ee2_39cf_11e8_9b30_005056c00008row6_col3\" class=\"data row6 col3\" >569</td> \n",
              "        <td id=\"T_81a84ee2_39cf_11e8_9b30_005056c00008row6_col4\" class=\"data row6 col4\" >368</td> \n",
              "        <td id=\"T_81a84ee2_39cf_11e8_9b30_005056c00008row6_col5\" class=\"data row6 col5\" >155</td> \n",
              "        <td id=\"T_81a84ee2_39cf_11e8_9b30_005056c00008row6_col6\" class=\"data row6 col6\" >43</td> \n",
              "    </tr>    <tr> \n",
              "        <th id=\"T_81a84ee2_39cf_11e8_9b30_005056c00008level0_row7\" class=\"row_heading level0 row7\" >Late (31-120 days)</th> \n",
              "        <td id=\"T_81a84ee2_39cf_11e8_9b30_005056c00008row7_col0\" class=\"data row7 col0\" >492</td> \n",
              "        <td id=\"T_81a84ee2_39cf_11e8_9b30_005056c00008row7_col1\" class=\"data row7 col1\" >2004</td> \n",
              "        <td id=\"T_81a84ee2_39cf_11e8_9b30_005056c00008row7_col2\" class=\"data row7 col2\" >3339</td> \n",
              "        <td id=\"T_81a84ee2_39cf_11e8_9b30_005056c00008row7_col3\" class=\"data row7 col3\" >2890</td> \n",
              "        <td id=\"T_81a84ee2_39cf_11e8_9b30_005056c00008row7_col4\" class=\"data row7 col4\" >1852</td> \n",
              "        <td id=\"T_81a84ee2_39cf_11e8_9b30_005056c00008row7_col5\" class=\"data row7 col5\" >768</td> \n",
              "        <td id=\"T_81a84ee2_39cf_11e8_9b30_005056c00008row7_col6\" class=\"data row7 col6\" >246</td> \n",
              "    </tr></tbody> \n",
              "</table> "
            ],
            "text/plain": [
              "<pandas.io.formats.style.Styler at 0x128bdd30>"
            ]
          },
          "metadata": {
            "tags": []
          },
          "execution_count": 120
        }
      ]
    },
    {
      "cell_type": "markdown",
      "metadata": {
        "id": "-ZN401vx4b9r",
        "colab_type": "text"
      },
      "source": [
        "### Crosstab table by term and loan status"
      ]
    },
    {
      "cell_type": "code",
      "metadata": {
        "ExecuteTime": {
          "end_time": "2018-04-06T01:38:03.625113Z",
          "start_time": "2018-04-06T01:38:03.375937Z"
        },
        "scrolled": true,
        "id": "ukBOpMWi4b9s",
        "colab_type": "code",
        "outputId": "26f7e13f-649d-4901-a7b5-b546a0b041a6",
        "colab": {}
      },
      "source": [
        "loan_grade = ['term', 'loan_status']\n",
        "cm = sns.light_palette(\"orange\", as_cmap=True)\n",
        "pd.crosstab(for_analysis[loan_grade[0]], for_analysis[loan_grade[1]]).style.background_gradient(cmap = cm)"
      ],
      "execution_count": 0,
      "outputs": [
        {
          "output_type": "execute_result",
          "data": {
            "text/html": [
              "<style  type=\"text/css\" >\n",
              "    #T_8432fb14_39cf_11e8_9b33_005056c00008row0_col0 {\n",
              "            background-color:  #ffa500;\n",
              "        }    #T_8432fb14_39cf_11e8_9b33_005056c00008row0_col1 {\n",
              "            background-color:  #ffa500;\n",
              "        }    #T_8432fb14_39cf_11e8_9b33_005056c00008row0_col2 {\n",
              "            background-color:  #ffa500;\n",
              "        }    #T_8432fb14_39cf_11e8_9b33_005056c00008row0_col3 {\n",
              "            background-color:  #ffa500;\n",
              "        }    #T_8432fb14_39cf_11e8_9b33_005056c00008row0_col4 {\n",
              "            background-color:  #ffa500;\n",
              "        }    #T_8432fb14_39cf_11e8_9b33_005056c00008row0_col5 {\n",
              "            background-color:  #ffa500;\n",
              "        }    #T_8432fb14_39cf_11e8_9b33_005056c00008row0_col6 {\n",
              "            background-color:  #ffa500;\n",
              "        }    #T_8432fb14_39cf_11e8_9b33_005056c00008row0_col7 {\n",
              "            background-color:  #ffa500;\n",
              "        }    #T_8432fb14_39cf_11e8_9b33_005056c00008row1_col0 {\n",
              "            background-color:  #fff6e5;\n",
              "        }    #T_8432fb14_39cf_11e8_9b33_005056c00008row1_col1 {\n",
              "            background-color:  #fff6e5;\n",
              "        }    #T_8432fb14_39cf_11e8_9b33_005056c00008row1_col2 {\n",
              "            background-color:  #fff6e5;\n",
              "        }    #T_8432fb14_39cf_11e8_9b33_005056c00008row1_col3 {\n",
              "            background-color:  #fff6e5;\n",
              "        }    #T_8432fb14_39cf_11e8_9b33_005056c00008row1_col4 {\n",
              "            background-color:  #fff6e5;\n",
              "        }    #T_8432fb14_39cf_11e8_9b33_005056c00008row1_col5 {\n",
              "            background-color:  #fff6e5;\n",
              "        }    #T_8432fb14_39cf_11e8_9b33_005056c00008row1_col6 {\n",
              "            background-color:  #fff6e5;\n",
              "        }    #T_8432fb14_39cf_11e8_9b33_005056c00008row1_col7 {\n",
              "            background-color:  #fff6e5;\n",
              "        }</style>  \n",
              "<table id=\"T_8432fb14_39cf_11e8_9b33_005056c00008\" > \n",
              "<thead>    <tr> \n",
              "        <th class=\"index_name level0\" >loan_status</th> \n",
              "        <th class=\"col_heading level0 col0\" >Charged Off</th> \n",
              "        <th class=\"col_heading level0 col1\" >Current</th> \n",
              "        <th class=\"col_heading level0 col2\" >Default</th> \n",
              "        <th class=\"col_heading level0 col3\" >Fully Paid</th> \n",
              "        <th class=\"col_heading level0 col4\" >In Grace Period</th> \n",
              "        <th class=\"col_heading level0 col5\" >Issued</th> \n",
              "        <th class=\"col_heading level0 col6\" >Late (16-30 days)</th> \n",
              "        <th class=\"col_heading level0 col7\" >Late (31-120 days)</th> \n",
              "    </tr>    <tr> \n",
              "        <th class=\"index_name level0\" >term</th> \n",
              "        <th class=\"blank\" ></th> \n",
              "        <th class=\"blank\" ></th> \n",
              "        <th class=\"blank\" ></th> \n",
              "        <th class=\"blank\" ></th> \n",
              "        <th class=\"blank\" ></th> \n",
              "        <th class=\"blank\" ></th> \n",
              "        <th class=\"blank\" ></th> \n",
              "        <th class=\"blank\" ></th> \n",
              "    </tr></thead> \n",
              "<tbody>    <tr> \n",
              "        <th id=\"T_8432fb14_39cf_11e8_9b33_005056c00008level0_row0\" class=\"row_heading level0 row0\" > 36 months</th> \n",
              "        <td id=\"T_8432fb14_39cf_11e8_9b33_005056c00008row0_col0\" class=\"data row0 col0\" >29732</td> \n",
              "        <td id=\"T_8432fb14_39cf_11e8_9b33_005056c00008row0_col1\" class=\"data row0 col1\" >402848</td> \n",
              "        <td id=\"T_8432fb14_39cf_11e8_9b33_005056c00008row0_col2\" class=\"data row0 col2\" >715</td> \n",
              "        <td id=\"T_8432fb14_39cf_11e8_9b33_005056c00008row0_col3\" class=\"data row0 col3\" >169364</td> \n",
              "        <td id=\"T_8432fb14_39cf_11e8_9b33_005056c00008row0_col4\" class=\"data row0 col4\" >3975</td> \n",
              "        <td id=\"T_8432fb14_39cf_11e8_9b33_005056c00008row0_col5\" class=\"data row0 col5\" >5982</td> \n",
              "        <td id=\"T_8432fb14_39cf_11e8_9b33_005056c00008row0_col6\" class=\"data row0 col6\" >1483</td> \n",
              "        <td id=\"T_8432fb14_39cf_11e8_9b33_005056c00008row0_col7\" class=\"data row0 col7\" >7026</td> \n",
              "    </tr>    <tr> \n",
              "        <th id=\"T_8432fb14_39cf_11e8_9b33_005056c00008level0_row1\" class=\"row_heading level0 row1\" > 60 months</th> \n",
              "        <td id=\"T_8432fb14_39cf_11e8_9b33_005056c00008row1_col0\" class=\"data row1 col0\" >16277</td> \n",
              "        <td id=\"T_8432fb14_39cf_11e8_9b33_005056c00008row1_col1\" class=\"data row1 col1\" >198931</td> \n",
              "        <td id=\"T_8432fb14_39cf_11e8_9b33_005056c00008row1_col2\" class=\"data row1 col2\" >504</td> \n",
              "        <td id=\"T_8432fb14_39cf_11e8_9b33_005056c00008row1_col3\" class=\"data row1 col3\" >40347</td> \n",
              "        <td id=\"T_8432fb14_39cf_11e8_9b33_005056c00008row1_col4\" class=\"data row1 col4\" >2278</td> \n",
              "        <td id=\"T_8432fb14_39cf_11e8_9b33_005056c00008row1_col5\" class=\"data row1 col5\" >2478</td> \n",
              "        <td id=\"T_8432fb14_39cf_11e8_9b33_005056c00008row1_col6\" class=\"data row1 col6\" >874</td> \n",
              "        <td id=\"T_8432fb14_39cf_11e8_9b33_005056c00008row1_col7\" class=\"data row1 col7\" >4565</td> \n",
              "    </tr></tbody> \n",
              "</table> "
            ],
            "text/plain": [
              "<pandas.io.formats.style.Styler at 0xd77f588>"
            ]
          },
          "metadata": {
            "tags": []
          },
          "execution_count": 121
        }
      ]
    },
    {
      "cell_type": "markdown",
      "metadata": {
        "collapsed": true,
        "id": "kCztNvEl4b9u",
        "colab_type": "text"
      },
      "source": [
        "# Section 2\n",
        "## Machine Learning\n"
      ]
    },
    {
      "cell_type": "code",
      "metadata": {
        "ExecuteTime": {
          "end_time": "2018-04-06T01:38:03.723185Z",
          "start_time": "2018-04-06T01:38:03.636122Z"
        },
        "id": "eIJbHR7r4b9v",
        "colab_type": "code",
        "colab": {}
      },
      "source": [
        "def remove_percent_sign(v):\n",
        "    if isinstance(v, float):\n",
        "        return v[:-1]\n",
        "    else:\n",
        "        TypeError(\"Required float type\")"
      ],
      "execution_count": 0,
      "outputs": []
    },
    {
      "cell_type": "code",
      "metadata": {
        "ExecuteTime": {
          "end_time": "2018-04-06T01:38:03.832261Z",
          "start_time": "2018-04-06T01:38:03.726186Z"
        },
        "id": "j2omWoGQ4b9x",
        "colab_type": "code",
        "colab": {}
      },
      "source": [
        "def loan_format(data):\n",
        "    if isinstance(data, pd.DataFrame):\n",
        "        data = data[(data[\"loan_status\"] == \"Fully Paid\") | \n",
        "                       (data[\"loan_status\"] == \"Charged Off\")]\n",
        "        onehotd = {\"Fully Paid\":0, \"Charged Off\":1}\n",
        "        data = data.replace({\"loan_status\": onehotd})\n",
        "        return data\n",
        "    else:\n",
        "        TypeError(\"Required dataframe type\")"
      ],
      "execution_count": 0,
      "outputs": []
    },
    {
      "cell_type": "code",
      "metadata": {
        "ExecuteTime": {
          "end_time": "2018-04-06T01:38:05.097161Z",
          "start_time": "2018-04-06T01:38:03.950346Z"
        },
        "id": "4WDhozJw4b90",
        "colab_type": "code",
        "outputId": "3f0fb726-c730-4b04-9a63-5cf8bc03c3b1",
        "colab": {}
      },
      "source": [
        "for_ml = loan_format(for_ml)\n",
        "for_ml.shape"
      ],
      "execution_count": 0,
      "outputs": [
        {
          "output_type": "execute_result",
          "data": {
            "text/plain": [
              "(252971, 74)"
            ]
          },
          "metadata": {
            "tags": []
          },
          "execution_count": 124
        }
      ]
    },
    {
      "cell_type": "markdown",
      "metadata": {
        "id": "VjGE2GmE4b94",
        "colab_type": "text"
      },
      "source": [
        "This will the features we'll be using for our machine learning models"
      ]
    },
    {
      "cell_type": "code",
      "metadata": {
        "ExecuteTime": {
          "end_time": "2018-04-06T01:42:15.924449Z",
          "start_time": "2018-04-06T01:42:15.827396Z"
        },
        "id": "Hb6GoE3O4b95",
        "colab_type": "code",
        "outputId": "e779c947-0e08-48b1-c034-3bb6b5b460f4",
        "colab": {}
      },
      "source": [
        "features_used = ['funded_amnt','emp_length','annual_inc','home_ownership','grade',\n",
        "                 'last_pymnt_amnt', 'mort_acc', 'pub_rec', 'int_rate', 'open_acc','num_actv_rev_tl',\n",
        "                 'mo_sin_rcnt_rev_tl_op','mo_sin_old_rev_tl_op','bc_util','bc_open_to_buy',\n",
        "                 'avg_cur_bal','acc_open_past_24mths','loan_status']\n",
        "\n",
        "for_ml = for_ml.loc[:, features_used]\n",
        "for_ml = for_ml.reset_index(drop=True)\n",
        "for_ml.shape"
      ],
      "execution_count": 0,
      "outputs": [
        {
          "output_type": "execute_result",
          "data": {
            "text/plain": [
              "(252971, 18)"
            ]
          },
          "metadata": {
            "tags": []
          },
          "execution_count": 125
        }
      ]
    },
    {
      "cell_type": "code",
      "metadata": {
        "ExecuteTime": {
          "end_time": "2018-04-06T01:42:31.285096Z",
          "start_time": "2018-04-06T01:42:31.260061Z"
        },
        "id": "XZpOQNHu4b98",
        "colab_type": "code",
        "colab": {}
      },
      "source": [
        "\n",
        "ready_data = for_ml.copy()"
      ],
      "execution_count": 0,
      "outputs": []
    },
    {
      "cell_type": "code",
      "metadata": {
        "ExecuteTime": {
          "end_time": "2018-04-06T01:42:32.357841Z",
          "start_time": "2018-04-06T01:42:32.334825Z"
        },
        "id": "uaiphbF64b-A",
        "colab_type": "code",
        "outputId": "8ea881a3-2b7c-4de3-cb79-3e2081ccde54",
        "colab": {}
      },
      "source": [
        "ready_data.head()"
      ],
      "execution_count": 0,
      "outputs": [
        {
          "output_type": "execute_result",
          "data": {
            "text/html": [
              "<div>\n",
              "<style>\n",
              "    .dataframe thead tr:only-child th {\n",
              "        text-align: right;\n",
              "    }\n",
              "\n",
              "    .dataframe thead th {\n",
              "        text-align: left;\n",
              "    }\n",
              "\n",
              "    .dataframe tbody tr th {\n",
              "        vertical-align: top;\n",
              "    }\n",
              "</style>\n",
              "<table border=\"1\" class=\"dataframe\">\n",
              "  <thead>\n",
              "    <tr style=\"text-align: right;\">\n",
              "      <th></th>\n",
              "      <th>funded_amnt</th>\n",
              "      <th>emp_length</th>\n",
              "      <th>annual_inc</th>\n",
              "      <th>home_ownership</th>\n",
              "      <th>grade</th>\n",
              "      <th>last_pymnt_amnt</th>\n",
              "      <th>mort_acc</th>\n",
              "      <th>pub_rec</th>\n",
              "      <th>int_rate</th>\n",
              "      <th>open_acc</th>\n",
              "      <th>num_actv_rev_tl</th>\n",
              "      <th>mo_sin_rcnt_rev_tl_op</th>\n",
              "      <th>mo_sin_old_rev_tl_op</th>\n",
              "      <th>bc_util</th>\n",
              "      <th>bc_open_to_buy</th>\n",
              "      <th>avg_cur_bal</th>\n",
              "      <th>acc_open_past_24mths</th>\n",
              "      <th>loan_status</th>\n",
              "    </tr>\n",
              "  </thead>\n",
              "  <tbody>\n",
              "    <tr>\n",
              "      <th>0</th>\n",
              "      <td>5000.0</td>\n",
              "      <td>10+ years</td>\n",
              "      <td>24000.0</td>\n",
              "      <td>RENT</td>\n",
              "      <td>B</td>\n",
              "      <td>171.62</td>\n",
              "      <td>NaN</td>\n",
              "      <td>0.0</td>\n",
              "      <td>10.65</td>\n",
              "      <td>3.0</td>\n",
              "      <td>NaN</td>\n",
              "      <td>NaN</td>\n",
              "      <td>NaN</td>\n",
              "      <td>NaN</td>\n",
              "      <td>NaN</td>\n",
              "      <td>NaN</td>\n",
              "      <td>NaN</td>\n",
              "      <td>0</td>\n",
              "    </tr>\n",
              "    <tr>\n",
              "      <th>1</th>\n",
              "      <td>2500.0</td>\n",
              "      <td>&lt; 1 year</td>\n",
              "      <td>30000.0</td>\n",
              "      <td>RENT</td>\n",
              "      <td>C</td>\n",
              "      <td>119.66</td>\n",
              "      <td>NaN</td>\n",
              "      <td>0.0</td>\n",
              "      <td>15.27</td>\n",
              "      <td>3.0</td>\n",
              "      <td>NaN</td>\n",
              "      <td>NaN</td>\n",
              "      <td>NaN</td>\n",
              "      <td>NaN</td>\n",
              "      <td>NaN</td>\n",
              "      <td>NaN</td>\n",
              "      <td>NaN</td>\n",
              "      <td>1</td>\n",
              "    </tr>\n",
              "    <tr>\n",
              "      <th>2</th>\n",
              "      <td>2400.0</td>\n",
              "      <td>10+ years</td>\n",
              "      <td>12252.0</td>\n",
              "      <td>RENT</td>\n",
              "      <td>C</td>\n",
              "      <td>649.91</td>\n",
              "      <td>NaN</td>\n",
              "      <td>0.0</td>\n",
              "      <td>15.96</td>\n",
              "      <td>2.0</td>\n",
              "      <td>NaN</td>\n",
              "      <td>NaN</td>\n",
              "      <td>NaN</td>\n",
              "      <td>NaN</td>\n",
              "      <td>NaN</td>\n",
              "      <td>NaN</td>\n",
              "      <td>NaN</td>\n",
              "      <td>0</td>\n",
              "    </tr>\n",
              "    <tr>\n",
              "      <th>3</th>\n",
              "      <td>10000.0</td>\n",
              "      <td>10+ years</td>\n",
              "      <td>49200.0</td>\n",
              "      <td>RENT</td>\n",
              "      <td>C</td>\n",
              "      <td>357.48</td>\n",
              "      <td>NaN</td>\n",
              "      <td>0.0</td>\n",
              "      <td>13.49</td>\n",
              "      <td>10.0</td>\n",
              "      <td>NaN</td>\n",
              "      <td>NaN</td>\n",
              "      <td>NaN</td>\n",
              "      <td>NaN</td>\n",
              "      <td>NaN</td>\n",
              "      <td>NaN</td>\n",
              "      <td>NaN</td>\n",
              "      <td>0</td>\n",
              "    </tr>\n",
              "    <tr>\n",
              "      <th>4</th>\n",
              "      <td>5000.0</td>\n",
              "      <td>3 years</td>\n",
              "      <td>36000.0</td>\n",
              "      <td>RENT</td>\n",
              "      <td>A</td>\n",
              "      <td>161.03</td>\n",
              "      <td>NaN</td>\n",
              "      <td>0.0</td>\n",
              "      <td>7.90</td>\n",
              "      <td>9.0</td>\n",
              "      <td>NaN</td>\n",
              "      <td>NaN</td>\n",
              "      <td>NaN</td>\n",
              "      <td>NaN</td>\n",
              "      <td>NaN</td>\n",
              "      <td>NaN</td>\n",
              "      <td>NaN</td>\n",
              "      <td>0</td>\n",
              "    </tr>\n",
              "  </tbody>\n",
              "</table>\n",
              "</div>"
            ],
            "text/plain": [
              "   funded_amnt emp_length  annual_inc home_ownership grade  last_pymnt_amnt  \\\n",
              "0       5000.0  10+ years     24000.0           RENT     B           171.62   \n",
              "1       2500.0   < 1 year     30000.0           RENT     C           119.66   \n",
              "2       2400.0  10+ years     12252.0           RENT     C           649.91   \n",
              "3      10000.0  10+ years     49200.0           RENT     C           357.48   \n",
              "4       5000.0    3 years     36000.0           RENT     A           161.03   \n",
              "\n",
              "   mort_acc  pub_rec  int_rate  open_acc  num_actv_rev_tl  \\\n",
              "0       NaN      0.0     10.65       3.0              NaN   \n",
              "1       NaN      0.0     15.27       3.0              NaN   \n",
              "2       NaN      0.0     15.96       2.0              NaN   \n",
              "3       NaN      0.0     13.49      10.0              NaN   \n",
              "4       NaN      0.0      7.90       9.0              NaN   \n",
              "\n",
              "   mo_sin_rcnt_rev_tl_op  mo_sin_old_rev_tl_op  bc_util  bc_open_to_buy  \\\n",
              "0                    NaN                   NaN      NaN             NaN   \n",
              "1                    NaN                   NaN      NaN             NaN   \n",
              "2                    NaN                   NaN      NaN             NaN   \n",
              "3                    NaN                   NaN      NaN             NaN   \n",
              "4                    NaN                   NaN      NaN             NaN   \n",
              "\n",
              "   avg_cur_bal  acc_open_past_24mths  loan_status  \n",
              "0          NaN                   NaN            0  \n",
              "1          NaN                   NaN            1  \n",
              "2          NaN                   NaN            0  \n",
              "3          NaN                   NaN            0  \n",
              "4          NaN                   NaN            0  "
            ]
          },
          "metadata": {
            "tags": []
          },
          "execution_count": 127
        }
      ]
    },
    {
      "cell_type": "code",
      "metadata": {
        "ExecuteTime": {
          "end_time": "2018-04-06T01:42:35.800582Z",
          "start_time": "2018-04-06T01:42:35.788574Z"
        },
        "id": "57Ch5p_Z4b-D",
        "colab_type": "code",
        "outputId": "161369b7-5c2a-49aa-dc30-90a8854b0032",
        "colab": {}
      },
      "source": [
        "ready_data['loan_status'].value_counts()"
      ],
      "execution_count": 0,
      "outputs": [
        {
          "output_type": "execute_result",
          "data": {
            "text/plain": [
              "0    207723\n",
              "1     45248\n",
              "Name: loan_status, dtype: int64"
            ]
          },
          "metadata": {
            "tags": []
          },
          "execution_count": 128
        }
      ]
    },
    {
      "cell_type": "code",
      "metadata": {
        "ExecuteTime": {
          "end_time": "2018-04-06T01:42:38.145461Z",
          "start_time": "2018-04-06T01:42:38.129470Z"
        },
        "id": "Y5f-VwlG4b-G",
        "colab_type": "code",
        "colab": {}
      },
      "source": [
        "def data_encoding(data):\n",
        "    if isinstance(data, pd.DataFrame):\n",
        "        data['grade'] = data['grade'].map({'A':7,'B':6,'C':5,'D':4,'E':3,'F':2,'G':1})\n",
        "        data[\"home_ownership\"] = data[\"home_ownership\"].map({\"MORTGAGE\":6,\"RENT\":5,\"OWN\":4,\"OTHER\":3,\"NONE\":2,\"ANY\":1})\n",
        "        data[\"emp_length\"] = data[\"emp_length\"].replace({'years':'','year':'',' ':'','<':'','\\+':'','n/a':'0'}, regex = True)\n",
        "        data[\"emp_length\"] = data[\"emp_length\"].apply(lambda x:int(x))\n",
        "        data.dropna(how='any')\n",
        "        return data.head()\n",
        "    else:\n",
        "        TypeError(\"Required DataFrame\")"
      ],
      "execution_count": 0,
      "outputs": []
    },
    {
      "cell_type": "code",
      "metadata": {
        "ExecuteTime": {
          "end_time": "2018-04-06T01:42:39.278062Z",
          "start_time": "2018-04-06T01:42:39.255010Z"
        },
        "id": "Bqizl5FQ4b-J",
        "colab_type": "code",
        "colab": {}
      },
      "source": [
        "new_data = ready_data.copy()"
      ],
      "execution_count": 0,
      "outputs": []
    },
    {
      "cell_type": "code",
      "metadata": {
        "ExecuteTime": {
          "end_time": "2018-04-06T01:42:41.624153Z",
          "start_time": "2018-04-06T01:42:40.422301Z"
        },
        "id": "9apCOdyr4b-N",
        "colab_type": "code",
        "outputId": "efe30a09-7fb5-4d88-9ee3-88a0c06da39a",
        "colab": {}
      },
      "source": [
        "data_encoding(new_data)"
      ],
      "execution_count": 0,
      "outputs": [
        {
          "output_type": "execute_result",
          "data": {
            "text/html": [
              "<div>\n",
              "<style>\n",
              "    .dataframe thead tr:only-child th {\n",
              "        text-align: right;\n",
              "    }\n",
              "\n",
              "    .dataframe thead th {\n",
              "        text-align: left;\n",
              "    }\n",
              "\n",
              "    .dataframe tbody tr th {\n",
              "        vertical-align: top;\n",
              "    }\n",
              "</style>\n",
              "<table border=\"1\" class=\"dataframe\">\n",
              "  <thead>\n",
              "    <tr style=\"text-align: right;\">\n",
              "      <th></th>\n",
              "      <th>funded_amnt</th>\n",
              "      <th>emp_length</th>\n",
              "      <th>annual_inc</th>\n",
              "      <th>home_ownership</th>\n",
              "      <th>grade</th>\n",
              "      <th>last_pymnt_amnt</th>\n",
              "      <th>mort_acc</th>\n",
              "      <th>pub_rec</th>\n",
              "      <th>int_rate</th>\n",
              "      <th>open_acc</th>\n",
              "      <th>num_actv_rev_tl</th>\n",
              "      <th>mo_sin_rcnt_rev_tl_op</th>\n",
              "      <th>mo_sin_old_rev_tl_op</th>\n",
              "      <th>bc_util</th>\n",
              "      <th>bc_open_to_buy</th>\n",
              "      <th>avg_cur_bal</th>\n",
              "      <th>acc_open_past_24mths</th>\n",
              "      <th>loan_status</th>\n",
              "    </tr>\n",
              "  </thead>\n",
              "  <tbody>\n",
              "    <tr>\n",
              "      <th>0</th>\n",
              "      <td>5000.0</td>\n",
              "      <td>10</td>\n",
              "      <td>24000.0</td>\n",
              "      <td>5</td>\n",
              "      <td>6</td>\n",
              "      <td>171.62</td>\n",
              "      <td>NaN</td>\n",
              "      <td>0.0</td>\n",
              "      <td>10.65</td>\n",
              "      <td>3.0</td>\n",
              "      <td>NaN</td>\n",
              "      <td>NaN</td>\n",
              "      <td>NaN</td>\n",
              "      <td>NaN</td>\n",
              "      <td>NaN</td>\n",
              "      <td>NaN</td>\n",
              "      <td>NaN</td>\n",
              "      <td>0</td>\n",
              "    </tr>\n",
              "    <tr>\n",
              "      <th>1</th>\n",
              "      <td>2500.0</td>\n",
              "      <td>1</td>\n",
              "      <td>30000.0</td>\n",
              "      <td>5</td>\n",
              "      <td>5</td>\n",
              "      <td>119.66</td>\n",
              "      <td>NaN</td>\n",
              "      <td>0.0</td>\n",
              "      <td>15.27</td>\n",
              "      <td>3.0</td>\n",
              "      <td>NaN</td>\n",
              "      <td>NaN</td>\n",
              "      <td>NaN</td>\n",
              "      <td>NaN</td>\n",
              "      <td>NaN</td>\n",
              "      <td>NaN</td>\n",
              "      <td>NaN</td>\n",
              "      <td>1</td>\n",
              "    </tr>\n",
              "    <tr>\n",
              "      <th>2</th>\n",
              "      <td>2400.0</td>\n",
              "      <td>10</td>\n",
              "      <td>12252.0</td>\n",
              "      <td>5</td>\n",
              "      <td>5</td>\n",
              "      <td>649.91</td>\n",
              "      <td>NaN</td>\n",
              "      <td>0.0</td>\n",
              "      <td>15.96</td>\n",
              "      <td>2.0</td>\n",
              "      <td>NaN</td>\n",
              "      <td>NaN</td>\n",
              "      <td>NaN</td>\n",
              "      <td>NaN</td>\n",
              "      <td>NaN</td>\n",
              "      <td>NaN</td>\n",
              "      <td>NaN</td>\n",
              "      <td>0</td>\n",
              "    </tr>\n",
              "    <tr>\n",
              "      <th>3</th>\n",
              "      <td>10000.0</td>\n",
              "      <td>10</td>\n",
              "      <td>49200.0</td>\n",
              "      <td>5</td>\n",
              "      <td>5</td>\n",
              "      <td>357.48</td>\n",
              "      <td>NaN</td>\n",
              "      <td>0.0</td>\n",
              "      <td>13.49</td>\n",
              "      <td>10.0</td>\n",
              "      <td>NaN</td>\n",
              "      <td>NaN</td>\n",
              "      <td>NaN</td>\n",
              "      <td>NaN</td>\n",
              "      <td>NaN</td>\n",
              "      <td>NaN</td>\n",
              "      <td>NaN</td>\n",
              "      <td>0</td>\n",
              "    </tr>\n",
              "    <tr>\n",
              "      <th>4</th>\n",
              "      <td>5000.0</td>\n",
              "      <td>3</td>\n",
              "      <td>36000.0</td>\n",
              "      <td>5</td>\n",
              "      <td>7</td>\n",
              "      <td>161.03</td>\n",
              "      <td>NaN</td>\n",
              "      <td>0.0</td>\n",
              "      <td>7.90</td>\n",
              "      <td>9.0</td>\n",
              "      <td>NaN</td>\n",
              "      <td>NaN</td>\n",
              "      <td>NaN</td>\n",
              "      <td>NaN</td>\n",
              "      <td>NaN</td>\n",
              "      <td>NaN</td>\n",
              "      <td>NaN</td>\n",
              "      <td>0</td>\n",
              "    </tr>\n",
              "  </tbody>\n",
              "</table>\n",
              "</div>"
            ],
            "text/plain": [
              "   funded_amnt  emp_length  annual_inc  home_ownership  grade  \\\n",
              "0       5000.0          10     24000.0               5      6   \n",
              "1       2500.0           1     30000.0               5      5   \n",
              "2       2400.0          10     12252.0               5      5   \n",
              "3      10000.0          10     49200.0               5      5   \n",
              "4       5000.0           3     36000.0               5      7   \n",
              "\n",
              "   last_pymnt_amnt  mort_acc  pub_rec  int_rate  open_acc  num_actv_rev_tl  \\\n",
              "0           171.62       NaN      0.0     10.65       3.0              NaN   \n",
              "1           119.66       NaN      0.0     15.27       3.0              NaN   \n",
              "2           649.91       NaN      0.0     15.96       2.0              NaN   \n",
              "3           357.48       NaN      0.0     13.49      10.0              NaN   \n",
              "4           161.03       NaN      0.0      7.90       9.0              NaN   \n",
              "\n",
              "   mo_sin_rcnt_rev_tl_op  mo_sin_old_rev_tl_op  bc_util  bc_open_to_buy  \\\n",
              "0                    NaN                   NaN      NaN             NaN   \n",
              "1                    NaN                   NaN      NaN             NaN   \n",
              "2                    NaN                   NaN      NaN             NaN   \n",
              "3                    NaN                   NaN      NaN             NaN   \n",
              "4                    NaN                   NaN      NaN             NaN   \n",
              "\n",
              "   avg_cur_bal  acc_open_past_24mths  loan_status  \n",
              "0          NaN                   NaN            0  \n",
              "1          NaN                   NaN            1  \n",
              "2          NaN                   NaN            0  \n",
              "3          NaN                   NaN            0  \n",
              "4          NaN                   NaN            0  "
            ]
          },
          "metadata": {
            "tags": []
          },
          "execution_count": 131
        }
      ]
    },
    {
      "cell_type": "markdown",
      "metadata": {
        "collapsed": true,
        "id": "TsuLaBzP4b-S",
        "colab_type": "text"
      },
      "source": [
        "\n",
        "We'll apply heatmap on features we select to see if they contain missing values, that will tell us what features to drop."
      ]
    },
    {
      "cell_type": "code",
      "metadata": {
        "ExecuteTime": {
          "end_time": "2018-04-06T01:42:44.624639Z",
          "start_time": "2018-04-06T01:42:44.614616Z"
        },
        "id": "HQg-C2ls4b-U",
        "colab_type": "code",
        "colab": {}
      },
      "source": [
        "def plot_missing(data):\n",
        "    sns.set(font_scale = 1.25) #font size\n",
        "    fig, ax = plt.subplots(figsize=(8,5))\n",
        "    sns.heatmap(data.isnull(), yticklabels=False, cbar=False, cmap='viridis')\n",
        "    plt.xticks(range(len(data.columns)), data.columns, rotation=60)\n",
        "    plt.show()"
      ],
      "execution_count": 0,
      "outputs": []
    },
    {
      "cell_type": "code",
      "metadata": {
        "ExecuteTime": {
          "end_time": "2018-04-06T01:42:50.950369Z",
          "start_time": "2018-04-06T01:42:45.542528Z"
        },
        "scrolled": false,
        "id": "hJ22ILfO4b-X",
        "colab_type": "code",
        "outputId": "d079cd07-1b34-47e1-a3bb-f415990e87dd",
        "colab": {}
      },
      "source": [
        "plot_missing(new_data)"
      ],
      "execution_count": 0,
      "outputs": [
        {
          "output_type": "display_data",
          "data": {
            "image/png": "[encoded data removed]",
            "text/plain": [
              "<matplotlib.figure.Figure at 0x20cb0c18>"
            ]
          },
          "metadata": {
            "tags": []
          }
        }
      ]
    },
    {
      "cell_type": "markdown",
      "metadata": {
        "id": "vhHA3n694b-Z",
        "colab_type": "text"
      },
      "source": [
        "### We can remove these features\n"
      ]
    },
    {
      "cell_type": "code",
      "metadata": {
        "ExecuteTime": {
          "end_time": "2018-04-06T01:42:54.952416Z",
          "start_time": "2018-04-06T01:42:54.943426Z"
        },
        "id": "vAXfnfgU4b-a",
        "colab_type": "code",
        "colab": {}
      },
      "source": [
        "def delete_cols(data):\n",
        "    if isinstance(data, pd.DataFrame):\n",
        "        del_col = ['num_actv_rev_tl','mo_sin_rcnt_rev_tl_op','mo_sin_old_rev_tl_op',\n",
        "                   'bc_util','bc_open_to_buy','avg_cur_bal','acc_open_past_24mths', 'mort_acc']\n",
        "        return data.drop(del_col, axis=1, inplace=True)\n",
        "    else:\n",
        "        TypeError(\"Required dataframe\")"
      ],
      "execution_count": 0,
      "outputs": []
    },
    {
      "cell_type": "code",
      "metadata": {
        "ExecuteTime": {
          "end_time": "2018-04-06T01:42:56.259513Z",
          "start_time": "2018-04-06T01:42:56.244502Z"
        },
        "id": "BhiCc1_74b-c",
        "colab_type": "code",
        "colab": {}
      },
      "source": [
        "delete_cols(new_data)"
      ],
      "execution_count": 0,
      "outputs": []
    },
    {
      "cell_type": "code",
      "metadata": {
        "ExecuteTime": {
          "end_time": "2018-04-06T01:42:57.403535Z",
          "start_time": "2018-04-06T01:42:57.383539Z"
        },
        "id": "DNazAdxM4b-h",
        "colab_type": "code",
        "outputId": "2dcf8b45-7bcb-4195-eb27-4268971d4cfa",
        "colab": {}
      },
      "source": [
        "new_data.head()"
      ],
      "execution_count": 0,
      "outputs": [
        {
          "output_type": "execute_result",
          "data": {
            "text/html": [
              "<div>\n",
              "<style>\n",
              "    .dataframe thead tr:only-child th {\n",
              "        text-align: right;\n",
              "    }\n",
              "\n",
              "    .dataframe thead th {\n",
              "        text-align: left;\n",
              "    }\n",
              "\n",
              "    .dataframe tbody tr th {\n",
              "        vertical-align: top;\n",
              "    }\n",
              "</style>\n",
              "<table border=\"1\" class=\"dataframe\">\n",
              "  <thead>\n",
              "    <tr style=\"text-align: right;\">\n",
              "      <th></th>\n",
              "      <th>funded_amnt</th>\n",
              "      <th>emp_length</th>\n",
              "      <th>annual_inc</th>\n",
              "      <th>home_ownership</th>\n",
              "      <th>grade</th>\n",
              "      <th>last_pymnt_amnt</th>\n",
              "      <th>pub_rec</th>\n",
              "      <th>int_rate</th>\n",
              "      <th>open_acc</th>\n",
              "      <th>loan_status</th>\n",
              "    </tr>\n",
              "  </thead>\n",
              "  <tbody>\n",
              "    <tr>\n",
              "      <th>0</th>\n",
              "      <td>5000.0</td>\n",
              "      <td>10</td>\n",
              "      <td>24000.0</td>\n",
              "      <td>5</td>\n",
              "      <td>6</td>\n",
              "      <td>171.62</td>\n",
              "      <td>0.0</td>\n",
              "      <td>10.65</td>\n",
              "      <td>3.0</td>\n",
              "      <td>0</td>\n",
              "    </tr>\n",
              "    <tr>\n",
              "      <th>1</th>\n",
              "      <td>2500.0</td>\n",
              "      <td>1</td>\n",
              "      <td>30000.0</td>\n",
              "      <td>5</td>\n",
              "      <td>5</td>\n",
              "      <td>119.66</td>\n",
              "      <td>0.0</td>\n",
              "      <td>15.27</td>\n",
              "      <td>3.0</td>\n",
              "      <td>1</td>\n",
              "    </tr>\n",
              "    <tr>\n",
              "      <th>2</th>\n",
              "      <td>2400.0</td>\n",
              "      <td>10</td>\n",
              "      <td>12252.0</td>\n",
              "      <td>5</td>\n",
              "      <td>5</td>\n",
              "      <td>649.91</td>\n",
              "      <td>0.0</td>\n",
              "      <td>15.96</td>\n",
              "      <td>2.0</td>\n",
              "      <td>0</td>\n",
              "    </tr>\n",
              "    <tr>\n",
              "      <th>3</th>\n",
              "      <td>10000.0</td>\n",
              "      <td>10</td>\n",
              "      <td>49200.0</td>\n",
              "      <td>5</td>\n",
              "      <td>5</td>\n",
              "      <td>357.48</td>\n",
              "      <td>0.0</td>\n",
              "      <td>13.49</td>\n",
              "      <td>10.0</td>\n",
              "      <td>0</td>\n",
              "    </tr>\n",
              "    <tr>\n",
              "      <th>4</th>\n",
              "      <td>5000.0</td>\n",
              "      <td>3</td>\n",
              "      <td>36000.0</td>\n",
              "      <td>5</td>\n",
              "      <td>7</td>\n",
              "      <td>161.03</td>\n",
              "      <td>0.0</td>\n",
              "      <td>7.90</td>\n",
              "      <td>9.0</td>\n",
              "      <td>0</td>\n",
              "    </tr>\n",
              "  </tbody>\n",
              "</table>\n",
              "</div>"
            ],
            "text/plain": [
              "   funded_amnt  emp_length  annual_inc  home_ownership  grade  \\\n",
              "0       5000.0          10     24000.0               5      6   \n",
              "1       2500.0           1     30000.0               5      5   \n",
              "2       2400.0          10     12252.0               5      5   \n",
              "3      10000.0          10     49200.0               5      5   \n",
              "4       5000.0           3     36000.0               5      7   \n",
              "\n",
              "   last_pymnt_amnt  pub_rec  int_rate  open_acc  loan_status  \n",
              "0           171.62      0.0     10.65       3.0            0  \n",
              "1           119.66      0.0     15.27       3.0            1  \n",
              "2           649.91      0.0     15.96       2.0            0  \n",
              "3           357.48      0.0     13.49      10.0            0  \n",
              "4           161.03      0.0      7.90       9.0            0  "
            ]
          },
          "metadata": {
            "tags": []
          },
          "execution_count": 136
        }
      ]
    },
    {
      "cell_type": "code",
      "metadata": {
        "ExecuteTime": {
          "end_time": "2018-04-06T01:43:00.310426Z",
          "start_time": "2018-04-06T01:43:00.270396Z"
        },
        "id": "S5zypJl84b-l",
        "colab_type": "code",
        "outputId": "6f7e51ac-4f6c-4793-dc2d-50e217a77aec",
        "colab": {}
      },
      "source": [
        "new_data = new_data.fillna(new_data.mean(),inplace = True)\n",
        "new_data.head() "
      ],
      "execution_count": 0,
      "outputs": [
        {
          "output_type": "execute_result",
          "data": {
            "text/html": [
              "<div>\n",
              "<style>\n",
              "    .dataframe thead tr:only-child th {\n",
              "        text-align: right;\n",
              "    }\n",
              "\n",
              "    .dataframe thead th {\n",
              "        text-align: left;\n",
              "    }\n",
              "\n",
              "    .dataframe tbody tr th {\n",
              "        vertical-align: top;\n",
              "    }\n",
              "</style>\n",
              "<table border=\"1\" class=\"dataframe\">\n",
              "  <thead>\n",
              "    <tr style=\"text-align: right;\">\n",
              "      <th></th>\n",
              "      <th>funded_amnt</th>\n",
              "      <th>emp_length</th>\n",
              "      <th>annual_inc</th>\n",
              "      <th>home_ownership</th>\n",
              "      <th>grade</th>\n",
              "      <th>last_pymnt_amnt</th>\n",
              "      <th>pub_rec</th>\n",
              "      <th>int_rate</th>\n",
              "      <th>open_acc</th>\n",
              "      <th>loan_status</th>\n",
              "    </tr>\n",
              "  </thead>\n",
              "  <tbody>\n",
              "    <tr>\n",
              "      <th>0</th>\n",
              "      <td>5000.0</td>\n",
              "      <td>10</td>\n",
              "      <td>24000.0</td>\n",
              "      <td>5</td>\n",
              "      <td>6</td>\n",
              "      <td>171.62</td>\n",
              "      <td>0.0</td>\n",
              "      <td>10.65</td>\n",
              "      <td>3.0</td>\n",
              "      <td>0</td>\n",
              "    </tr>\n",
              "    <tr>\n",
              "      <th>1</th>\n",
              "      <td>2500.0</td>\n",
              "      <td>1</td>\n",
              "      <td>30000.0</td>\n",
              "      <td>5</td>\n",
              "      <td>5</td>\n",
              "      <td>119.66</td>\n",
              "      <td>0.0</td>\n",
              "      <td>15.27</td>\n",
              "      <td>3.0</td>\n",
              "      <td>1</td>\n",
              "    </tr>\n",
              "    <tr>\n",
              "      <th>2</th>\n",
              "      <td>2400.0</td>\n",
              "      <td>10</td>\n",
              "      <td>12252.0</td>\n",
              "      <td>5</td>\n",
              "      <td>5</td>\n",
              "      <td>649.91</td>\n",
              "      <td>0.0</td>\n",
              "      <td>15.96</td>\n",
              "      <td>2.0</td>\n",
              "      <td>0</td>\n",
              "    </tr>\n",
              "    <tr>\n",
              "      <th>3</th>\n",
              "      <td>10000.0</td>\n",
              "      <td>10</td>\n",
              "      <td>49200.0</td>\n",
              "      <td>5</td>\n",
              "      <td>5</td>\n",
              "      <td>357.48</td>\n",
              "      <td>0.0</td>\n",
              "      <td>13.49</td>\n",
              "      <td>10.0</td>\n",
              "      <td>0</td>\n",
              "    </tr>\n",
              "    <tr>\n",
              "      <th>4</th>\n",
              "      <td>5000.0</td>\n",
              "      <td>3</td>\n",
              "      <td>36000.0</td>\n",
              "      <td>5</td>\n",
              "      <td>7</td>\n",
              "      <td>161.03</td>\n",
              "      <td>0.0</td>\n",
              "      <td>7.90</td>\n",
              "      <td>9.0</td>\n",
              "      <td>0</td>\n",
              "    </tr>\n",
              "  </tbody>\n",
              "</table>\n",
              "</div>"
            ],
            "text/plain": [
              "   funded_amnt  emp_length  annual_inc  home_ownership  grade  \\\n",
              "0       5000.0          10     24000.0               5      6   \n",
              "1       2500.0           1     30000.0               5      5   \n",
              "2       2400.0          10     12252.0               5      5   \n",
              "3      10000.0          10     49200.0               5      5   \n",
              "4       5000.0           3     36000.0               5      7   \n",
              "\n",
              "   last_pymnt_amnt  pub_rec  int_rate  open_acc  loan_status  \n",
              "0           171.62      0.0     10.65       3.0            0  \n",
              "1           119.66      0.0     15.27       3.0            1  \n",
              "2           649.91      0.0     15.96       2.0            0  \n",
              "3           357.48      0.0     13.49      10.0            0  \n",
              "4           161.03      0.0      7.90       9.0            0  "
            ]
          },
          "metadata": {
            "tags": []
          },
          "execution_count": 137
        }
      ]
    },
    {
      "cell_type": "code",
      "metadata": {
        "ExecuteTime": {
          "end_time": "2018-04-06T01:43:03.296692Z",
          "start_time": "2018-04-06T01:43:03.153591Z"
        },
        "scrolled": true,
        "id": "KxC9SNbx4b-s",
        "colab_type": "code",
        "outputId": "75261af2-73b2-45d3-96b3-0268368174bd",
        "colab": {}
      },
      "source": [
        "scl = preprocessing.StandardScaler() #instance of preprocessing\n",
        "fields = new_data.columns.values[:-1]\n",
        "data_clean = pd.DataFrame(scl.fit_transform(new_data[fields]), columns = fields)\n",
        "data_clean['loan_status'] = new_data['loan_status']\n",
        "data_clean['loan_status'].value_counts()"
      ],
      "execution_count": 0,
      "outputs": [
        {
          "output_type": "execute_result",
          "data": {
            "text/plain": [
              "0    207723\n",
              "1     45248\n",
              "Name: loan_status, dtype: int64"
            ]
          },
          "metadata": {
            "tags": []
          },
          "execution_count": 138
        }
      ]
    },
    {
      "cell_type": "code",
      "metadata": {
        "ExecuteTime": {
          "end_time": "2018-04-06T01:43:04.209015Z",
          "start_time": "2018-04-06T01:43:04.137966Z"
        },
        "id": "96KcXYRm4b-w",
        "colab_type": "code",
        "outputId": "3af810d7-caca-464a-c607-e522b2b64fe1",
        "colab": {}
      },
      "source": [
        "loanstatus_0 = new_data[new_data[\"loan_status\"]==0]\n",
        "loanstatus_1 = new_data[new_data[\"loan_status\"]==1]\n",
        "subset_of_loanstatus_0 = loanstatus_0.sample(n=5500)\n",
        "subset_of_loanstatus_1 = loanstatus_1.sample(n=5500)\n",
        "new_data = pd.concat([subset_of_loanstatus_1, subset_of_loanstatus_0])\n",
        "new_data = new_data.sample(frac=1).reset_index(drop=True)\n",
        "print(\"Current shape of dataset :\",new_data.shape)\n",
        "new_data.head()"
      ],
      "execution_count": 0,
      "outputs": [
        {
          "output_type": "stream",
          "text": [
            "Current shape of dataset : (11000, 10)\n"
          ],
          "name": "stdout"
        },
        {
          "output_type": "execute_result",
          "data": {
            "text/html": [
              "<div>\n",
              "<style>\n",
              "    .dataframe thead tr:only-child th {\n",
              "        text-align: right;\n",
              "    }\n",
              "\n",
              "    .dataframe thead th {\n",
              "        text-align: left;\n",
              "    }\n",
              "\n",
              "    .dataframe tbody tr th {\n",
              "        vertical-align: top;\n",
              "    }\n",
              "</style>\n",
              "<table border=\"1\" class=\"dataframe\">\n",
              "  <thead>\n",
              "    <tr style=\"text-align: right;\">\n",
              "      <th></th>\n",
              "      <th>funded_amnt</th>\n",
              "      <th>emp_length</th>\n",
              "      <th>annual_inc</th>\n",
              "      <th>home_ownership</th>\n",
              "      <th>grade</th>\n",
              "      <th>last_pymnt_amnt</th>\n",
              "      <th>pub_rec</th>\n",
              "      <th>int_rate</th>\n",
              "      <th>open_acc</th>\n",
              "      <th>loan_status</th>\n",
              "    </tr>\n",
              "  </thead>\n",
              "  <tbody>\n",
              "    <tr>\n",
              "      <th>0</th>\n",
              "      <td>14000.0</td>\n",
              "      <td>5</td>\n",
              "      <td>55000.0</td>\n",
              "      <td>6</td>\n",
              "      <td>7</td>\n",
              "      <td>11898.00</td>\n",
              "      <td>0.0</td>\n",
              "      <td>6.03</td>\n",
              "      <td>7.0</td>\n",
              "      <td>0</td>\n",
              "    </tr>\n",
              "    <tr>\n",
              "      <th>1</th>\n",
              "      <td>18000.0</td>\n",
              "      <td>10</td>\n",
              "      <td>64000.0</td>\n",
              "      <td>5</td>\n",
              "      <td>7</td>\n",
              "      <td>567.30</td>\n",
              "      <td>0.0</td>\n",
              "      <td>8.39</td>\n",
              "      <td>12.0</td>\n",
              "      <td>1</td>\n",
              "    </tr>\n",
              "    <tr>\n",
              "      <th>2</th>\n",
              "      <td>9000.0</td>\n",
              "      <td>10</td>\n",
              "      <td>25000.0</td>\n",
              "      <td>6</td>\n",
              "      <td>5</td>\n",
              "      <td>311.95</td>\n",
              "      <td>1.0</td>\n",
              "      <td>14.99</td>\n",
              "      <td>15.0</td>\n",
              "      <td>1</td>\n",
              "    </tr>\n",
              "    <tr>\n",
              "      <th>3</th>\n",
              "      <td>12000.0</td>\n",
              "      <td>6</td>\n",
              "      <td>53000.0</td>\n",
              "      <td>6</td>\n",
              "      <td>5</td>\n",
              "      <td>283.22</td>\n",
              "      <td>0.0</td>\n",
              "      <td>14.64</td>\n",
              "      <td>7.0</td>\n",
              "      <td>1</td>\n",
              "    </tr>\n",
              "    <tr>\n",
              "      <th>4</th>\n",
              "      <td>7300.0</td>\n",
              "      <td>10</td>\n",
              "      <td>23420.0</td>\n",
              "      <td>6</td>\n",
              "      <td>5</td>\n",
              "      <td>7309.57</td>\n",
              "      <td>0.0</td>\n",
              "      <td>14.65</td>\n",
              "      <td>8.0</td>\n",
              "      <td>0</td>\n",
              "    </tr>\n",
              "  </tbody>\n",
              "</table>\n",
              "</div>"
            ],
            "text/plain": [
              "   funded_amnt  emp_length  annual_inc  home_ownership  grade  \\\n",
              "0      14000.0           5     55000.0               6      7   \n",
              "1      18000.0          10     64000.0               5      7   \n",
              "2       9000.0          10     25000.0               6      5   \n",
              "3      12000.0           6     53000.0               6      5   \n",
              "4       7300.0          10     23420.0               6      5   \n",
              "\n",
              "   last_pymnt_amnt  pub_rec  int_rate  open_acc  loan_status  \n",
              "0         11898.00      0.0      6.03       7.0            0  \n",
              "1           567.30      0.0      8.39      12.0            1  \n",
              "2           311.95      1.0     14.99      15.0            1  \n",
              "3           283.22      0.0     14.64       7.0            1  \n",
              "4          7309.57      0.0     14.65       8.0            0  "
            ]
          },
          "metadata": {
            "tags": []
          },
          "execution_count": 139
        }
      ]
    },
    {
      "cell_type": "markdown",
      "metadata": {
        "collapsed": true,
        "id": "-qLWvbvl4b-z",
        "colab_type": "text"
      },
      "source": [
        "### Before and After feature scaling\n"
      ]
    },
    {
      "cell_type": "code",
      "metadata": {
        "ExecuteTime": {
          "end_time": "2018-04-06T01:43:06.537904Z",
          "start_time": "2018-04-06T01:43:06.533901Z"
        },
        "id": "A0NHW45V4b-0",
        "colab_type": "code",
        "colab": {}
      },
      "source": [
        "up_to_date = new_data.copy()"
      ],
      "execution_count": 0,
      "outputs": []
    },
    {
      "cell_type": "code",
      "metadata": {
        "ExecuteTime": {
          "end_time": "2018-04-06T01:43:07.779206Z",
          "start_time": "2018-04-06T01:43:07.761215Z"
        },
        "id": "FjxXhFU-4b-5",
        "colab_type": "code",
        "colab": {}
      },
      "source": [
        "def before_scale(data):\n",
        "    fig, (ax1, ax2) = plt.subplots(ncols=2, figsize= (15,7))\n",
        "    ax1.set_title(\"Before Scaling\")\n",
        "    for col in data.columns:\n",
        "        sns.kdeplot(data[col], ax=ax1)\n",
        "        \n",
        "    \n",
        "    ax2.set_title(\"After Scaling\")\n",
        "    scaler = preprocessing.MinMaxScaler(feature_range = (0,1))\n",
        "    scaled_df = scaler.fit_transform(data)\n",
        "    scaled_df = pd.DataFrame(scaled_df, columns=data.columns)\n",
        "    for col2 in data.columns:\n",
        "        sns.kdeplot(scaled_df[col2], ax = ax2)\n",
        "        \n",
        "    plt.show()"
      ],
      "execution_count": 0,
      "outputs": []
    },
    {
      "cell_type": "code",
      "metadata": {
        "ExecuteTime": {
          "end_time": "2018-04-06T01:43:09.997638Z",
          "start_time": "2018-04-06T01:43:09.479270Z"
        },
        "id": "r1GSyAeX4b-8",
        "colab_type": "code",
        "outputId": "18609ace-33db-4d1f-8f00-bbec6b2789ff",
        "colab": {}
      },
      "source": [
        "before_scale(up_to_date)"
      ],
      "execution_count": 0,
      "outputs": [
        {
          "output_type": "display_data",
          "data": {
            "image/png": "[encoded data removed]",
            "text/plain": [
              "<matplotlib.figure.Figure at 0x12566cf8>"
            ]
          },
          "metadata": {
            "tags": []
          }
        }
      ]
    },
    {
      "cell_type": "code",
      "metadata": {
        "ExecuteTime": {
          "end_time": "2018-04-06T01:48:39.710098Z",
          "start_time": "2018-04-06T01:48:39.702127Z"
        },
        "id": "KJZZl76c4b_B",
        "colab_type": "code",
        "colab": {}
      },
      "source": [
        "scaler = preprocessing.MinMaxScaler(feature_range = (0,1))\n",
        "scaled_df = scaler.fit_transform(new_data)\n",
        "scaled_df = pd.DataFrame(scaled_df, columns=new_data.columns)"
      ],
      "execution_count": 0,
      "outputs": []
    },
    {
      "cell_type": "code",
      "metadata": {
        "ExecuteTime": {
          "end_time": "2018-04-06T01:48:42.598865Z",
          "start_time": "2018-04-06T01:48:42.581852Z"
        },
        "id": "hYp3YzX-4b_D",
        "colab_type": "code",
        "outputId": "b63ca6da-db8e-42df-f726-dc1f28e6711a",
        "colab": {}
      },
      "source": [
        "scaled_df.head()"
      ],
      "execution_count": 0,
      "outputs": [
        {
          "output_type": "execute_result",
          "data": {
            "text/html": [
              "<div>\n",
              "<style>\n",
              "    .dataframe thead tr:only-child th {\n",
              "        text-align: right;\n",
              "    }\n",
              "\n",
              "    .dataframe thead th {\n",
              "        text-align: left;\n",
              "    }\n",
              "\n",
              "    .dataframe tbody tr th {\n",
              "        vertical-align: top;\n",
              "    }\n",
              "</style>\n",
              "<table border=\"1\" class=\"dataframe\">\n",
              "  <thead>\n",
              "    <tr style=\"text-align: right;\">\n",
              "      <th></th>\n",
              "      <th>funded_amnt</th>\n",
              "      <th>emp_length</th>\n",
              "      <th>annual_inc</th>\n",
              "      <th>home_ownership</th>\n",
              "      <th>grade</th>\n",
              "      <th>last_pymnt_amnt</th>\n",
              "      <th>pub_rec</th>\n",
              "      <th>int_rate</th>\n",
              "      <th>open_acc</th>\n",
              "      <th>loan_status</th>\n",
              "    </tr>\n",
              "  </thead>\n",
              "  <tbody>\n",
              "    <tr>\n",
              "      <th>0</th>\n",
              "      <td>0.382353</td>\n",
              "      <td>0.5</td>\n",
              "      <td>0.013070</td>\n",
              "      <td>1.00</td>\n",
              "      <td>1.000000</td>\n",
              "      <td>0.333434</td>\n",
              "      <td>0.000000</td>\n",
              "      <td>0.031472</td>\n",
              "      <td>0.166667</td>\n",
              "      <td>0.0</td>\n",
              "    </tr>\n",
              "    <tr>\n",
              "      <th>1</th>\n",
              "      <td>0.500000</td>\n",
              "      <td>1.0</td>\n",
              "      <td>0.015380</td>\n",
              "      <td>0.75</td>\n",
              "      <td>1.000000</td>\n",
              "      <td>0.015898</td>\n",
              "      <td>0.000000</td>\n",
              "      <td>0.136082</td>\n",
              "      <td>0.285714</td>\n",
              "      <td>1.0</td>\n",
              "    </tr>\n",
              "    <tr>\n",
              "      <th>2</th>\n",
              "      <td>0.235294</td>\n",
              "      <td>1.0</td>\n",
              "      <td>0.005370</td>\n",
              "      <td>1.00</td>\n",
              "      <td>0.666667</td>\n",
              "      <td>0.008742</td>\n",
              "      <td>0.083333</td>\n",
              "      <td>0.428635</td>\n",
              "      <td>0.357143</td>\n",
              "      <td>1.0</td>\n",
              "    </tr>\n",
              "    <tr>\n",
              "      <th>3</th>\n",
              "      <td>0.323529</td>\n",
              "      <td>0.6</td>\n",
              "      <td>0.012557</td>\n",
              "      <td>1.00</td>\n",
              "      <td>0.666667</td>\n",
              "      <td>0.007937</td>\n",
              "      <td>0.000000</td>\n",
              "      <td>0.413121</td>\n",
              "      <td>0.166667</td>\n",
              "      <td>1.0</td>\n",
              "    </tr>\n",
              "    <tr>\n",
              "      <th>4</th>\n",
              "      <td>0.185294</td>\n",
              "      <td>1.0</td>\n",
              "      <td>0.004964</td>\n",
              "      <td>1.00</td>\n",
              "      <td>0.666667</td>\n",
              "      <td>0.204846</td>\n",
              "      <td>0.000000</td>\n",
              "      <td>0.413564</td>\n",
              "      <td>0.190476</td>\n",
              "      <td>0.0</td>\n",
              "    </tr>\n",
              "  </tbody>\n",
              "</table>\n",
              "</div>"
            ],
            "text/plain": [
              "   funded_amnt  emp_length  annual_inc  home_ownership     grade  \\\n",
              "0     0.382353         0.5    0.013070            1.00  1.000000   \n",
              "1     0.500000         1.0    0.015380            0.75  1.000000   \n",
              "2     0.235294         1.0    0.005370            1.00  0.666667   \n",
              "3     0.323529         0.6    0.012557            1.00  0.666667   \n",
              "4     0.185294         1.0    0.004964            1.00  0.666667   \n",
              "\n",
              "   last_pymnt_amnt   pub_rec  int_rate  open_acc  loan_status  \n",
              "0         0.333434  0.000000  0.031472  0.166667          0.0  \n",
              "1         0.015898  0.000000  0.136082  0.285714          1.0  \n",
              "2         0.008742  0.083333  0.428635  0.357143          1.0  \n",
              "3         0.007937  0.000000  0.413121  0.166667          1.0  \n",
              "4         0.204846  0.000000  0.413564  0.190476          0.0  "
            ]
          },
          "metadata": {
            "tags": []
          },
          "execution_count": 150
        }
      ]
    },
    {
      "cell_type": "code",
      "metadata": {
        "ExecuteTime": {
          "end_time": "2018-04-06T01:48:49.229780Z",
          "start_time": "2018-04-06T01:48:49.208767Z"
        },
        "id": "vAoSBEwF4b_G",
        "colab_type": "code",
        "outputId": "358a42b5-2e7b-41ac-b464-aa810857a1c1",
        "colab": {}
      },
      "source": [
        "scaled_df.corr()"
      ],
      "execution_count": 0,
      "outputs": [
        {
          "output_type": "execute_result",
          "data": {
            "text/html": [
              "<div>\n",
              "<style>\n",
              "    .dataframe thead tr:only-child th {\n",
              "        text-align: right;\n",
              "    }\n",
              "\n",
              "    .dataframe thead th {\n",
              "        text-align: left;\n",
              "    }\n",
              "\n",
              "    .dataframe tbody tr th {\n",
              "        vertical-align: top;\n",
              "    }\n",
              "</style>\n",
              "<table border=\"1\" class=\"dataframe\">\n",
              "  <thead>\n",
              "    <tr style=\"text-align: right;\">\n",
              "      <th></th>\n",
              "      <th>funded_amnt</th>\n",
              "      <th>emp_length</th>\n",
              "      <th>annual_inc</th>\n",
              "      <th>home_ownership</th>\n",
              "      <th>grade</th>\n",
              "      <th>last_pymnt_amnt</th>\n",
              "      <th>pub_rec</th>\n",
              "      <th>int_rate</th>\n",
              "      <th>open_acc</th>\n",
              "      <th>loan_status</th>\n",
              "    </tr>\n",
              "  </thead>\n",
              "  <tbody>\n",
              "    <tr>\n",
              "      <th>funded_amnt</th>\n",
              "      <td>1.000000</td>\n",
              "      <td>0.153906</td>\n",
              "      <td>0.326314</td>\n",
              "      <td>0.156881</td>\n",
              "      <td>-0.242948</td>\n",
              "      <td>0.394216</td>\n",
              "      <td>-0.065934</td>\n",
              "      <td>0.242924</td>\n",
              "      <td>0.200333</td>\n",
              "      <td>0.062768</td>\n",
              "    </tr>\n",
              "    <tr>\n",
              "      <th>emp_length</th>\n",
              "      <td>0.153906</td>\n",
              "      <td>1.000000</td>\n",
              "      <td>0.084972</td>\n",
              "      <td>0.155378</td>\n",
              "      <td>-0.030427</td>\n",
              "      <td>0.098921</td>\n",
              "      <td>0.015011</td>\n",
              "      <td>0.038838</td>\n",
              "      <td>0.064936</td>\n",
              "      <td>-0.020095</td>\n",
              "    </tr>\n",
              "    <tr>\n",
              "      <th>annual_inc</th>\n",
              "      <td>0.326314</td>\n",
              "      <td>0.084972</td>\n",
              "      <td>1.000000</td>\n",
              "      <td>0.139920</td>\n",
              "      <td>0.002665</td>\n",
              "      <td>0.190627</td>\n",
              "      <td>-0.003931</td>\n",
              "      <td>-0.018504</td>\n",
              "      <td>0.117236</td>\n",
              "      <td>-0.072754</td>\n",
              "    </tr>\n",
              "    <tr>\n",
              "      <th>home_ownership</th>\n",
              "      <td>0.156881</td>\n",
              "      <td>0.155378</td>\n",
              "      <td>0.139920</td>\n",
              "      <td>1.000000</td>\n",
              "      <td>0.047148</td>\n",
              "      <td>0.113614</td>\n",
              "      <td>0.028995</td>\n",
              "      <td>-0.051424</td>\n",
              "      <td>0.117534</td>\n",
              "      <td>-0.062726</td>\n",
              "    </tr>\n",
              "    <tr>\n",
              "      <th>grade</th>\n",
              "      <td>-0.242948</td>\n",
              "      <td>-0.030427</td>\n",
              "      <td>0.002665</td>\n",
              "      <td>0.047148</td>\n",
              "      <td>1.000000</td>\n",
              "      <td>-0.000286</td>\n",
              "      <td>-0.056591</td>\n",
              "      <td>-0.951226</td>\n",
              "      <td>-0.048533</td>\n",
              "      <td>-0.268097</td>\n",
              "    </tr>\n",
              "    <tr>\n",
              "      <th>last_pymnt_amnt</th>\n",
              "      <td>0.394216</td>\n",
              "      <td>0.098921</td>\n",
              "      <td>0.190627</td>\n",
              "      <td>0.113614</td>\n",
              "      <td>-0.000286</td>\n",
              "      <td>1.000000</td>\n",
              "      <td>0.007407</td>\n",
              "      <td>-0.020669</td>\n",
              "      <td>0.106498</td>\n",
              "      <td>-0.574344</td>\n",
              "    </tr>\n",
              "    <tr>\n",
              "      <th>pub_rec</th>\n",
              "      <td>-0.065934</td>\n",
              "      <td>0.015011</td>\n",
              "      <td>-0.003931</td>\n",
              "      <td>0.028995</td>\n",
              "      <td>-0.056591</td>\n",
              "      <td>0.007407</td>\n",
              "      <td>1.000000</td>\n",
              "      <td>0.054162</td>\n",
              "      <td>-0.017690</td>\n",
              "      <td>-0.005905</td>\n",
              "    </tr>\n",
              "    <tr>\n",
              "      <th>int_rate</th>\n",
              "      <td>0.242924</td>\n",
              "      <td>0.038838</td>\n",
              "      <td>-0.018504</td>\n",
              "      <td>-0.051424</td>\n",
              "      <td>-0.951226</td>\n",
              "      <td>-0.020669</td>\n",
              "      <td>0.054162</td>\n",
              "      <td>1.000000</td>\n",
              "      <td>0.055616</td>\n",
              "      <td>0.292658</td>\n",
              "    </tr>\n",
              "    <tr>\n",
              "      <th>open_acc</th>\n",
              "      <td>0.200333</td>\n",
              "      <td>0.064936</td>\n",
              "      <td>0.117236</td>\n",
              "      <td>0.117534</td>\n",
              "      <td>-0.048533</td>\n",
              "      <td>0.106498</td>\n",
              "      <td>-0.017690</td>\n",
              "      <td>0.055616</td>\n",
              "      <td>1.000000</td>\n",
              "      <td>0.008805</td>\n",
              "    </tr>\n",
              "    <tr>\n",
              "      <th>loan_status</th>\n",
              "      <td>0.062768</td>\n",
              "      <td>-0.020095</td>\n",
              "      <td>-0.072754</td>\n",
              "      <td>-0.062726</td>\n",
              "      <td>-0.268097</td>\n",
              "      <td>-0.574344</td>\n",
              "      <td>-0.005905</td>\n",
              "      <td>0.292658</td>\n",
              "      <td>0.008805</td>\n",
              "      <td>1.000000</td>\n",
              "    </tr>\n",
              "  </tbody>\n",
              "</table>\n",
              "</div>"
            ],
            "text/plain": [
              "                 funded_amnt  emp_length  annual_inc  home_ownership  \\\n",
              "funded_amnt         1.000000    0.153906    0.326314        0.156881   \n",
              "emp_length          0.153906    1.000000    0.084972        0.155378   \n",
              "annual_inc          0.326314    0.084972    1.000000        0.139920   \n",
              "home_ownership      0.156881    0.155378    0.139920        1.000000   \n",
              "grade              -0.242948   -0.030427    0.002665        0.047148   \n",
              "last_pymnt_amnt     0.394216    0.098921    0.190627        0.113614   \n",
              "pub_rec            -0.065934    0.015011   -0.003931        0.028995   \n",
              "int_rate            0.242924    0.038838   -0.018504       -0.051424   \n",
              "open_acc            0.200333    0.064936    0.117236        0.117534   \n",
              "loan_status         0.062768   -0.020095   -0.072754       -0.062726   \n",
              "\n",
              "                    grade  last_pymnt_amnt   pub_rec  int_rate  open_acc  \\\n",
              "funded_amnt     -0.242948         0.394216 -0.065934  0.242924  0.200333   \n",
              "emp_length      -0.030427         0.098921  0.015011  0.038838  0.064936   \n",
              "annual_inc       0.002665         0.190627 -0.003931 -0.018504  0.117236   \n",
              "home_ownership   0.047148         0.113614  0.028995 -0.051424  0.117534   \n",
              "grade            1.000000        -0.000286 -0.056591 -0.951226 -0.048533   \n",
              "last_pymnt_amnt -0.000286         1.000000  0.007407 -0.020669  0.106498   \n",
              "pub_rec         -0.056591         0.007407  1.000000  0.054162 -0.017690   \n",
              "int_rate        -0.951226        -0.020669  0.054162  1.000000  0.055616   \n",
              "open_acc        -0.048533         0.106498 -0.017690  0.055616  1.000000   \n",
              "loan_status     -0.268097        -0.574344 -0.005905  0.292658  0.008805   \n",
              "\n",
              "                 loan_status  \n",
              "funded_amnt         0.062768  \n",
              "emp_length         -0.020095  \n",
              "annual_inc         -0.072754  \n",
              "home_ownership     -0.062726  \n",
              "grade              -0.268097  \n",
              "last_pymnt_amnt    -0.574344  \n",
              "pub_rec            -0.005905  \n",
              "int_rate            0.292658  \n",
              "open_acc            0.008805  \n",
              "loan_status         1.000000  "
            ]
          },
          "metadata": {
            "tags": []
          },
          "execution_count": 151
        }
      ]
    },
    {
      "cell_type": "code",
      "metadata": {
        "ExecuteTime": {
          "end_time": "2018-04-06T01:48:52.042590Z",
          "start_time": "2018-04-06T01:48:52.036584Z"
        },
        "id": "FrUt0V6z4b_I",
        "colab_type": "code",
        "outputId": "37c5b6c3-03a9-43ba-fb5e-f0aa7ea9e99e",
        "colab": {}
      },
      "source": [
        "scaled_df.shape"
      ],
      "execution_count": 0,
      "outputs": [
        {
          "output_type": "execute_result",
          "data": {
            "text/plain": [
              "(11000, 10)"
            ]
          },
          "metadata": {
            "tags": []
          },
          "execution_count": 152
        }
      ]
    },
    {
      "cell_type": "markdown",
      "metadata": {
        "id": "187zaMgS4b_K",
        "colab_type": "text"
      },
      "source": [
        "#### train_test_split function\n",
        "\n",
        "We'll split our data into train and test set using the sckit-learn library and specifically the 'train_test_split' function."
      ]
    },
    {
      "cell_type": "code",
      "metadata": {
        "ExecuteTime": {
          "end_time": "2018-04-06T01:48:53.956641Z",
          "start_time": "2018-04-06T01:48:53.940630Z"
        },
        "id": "BxS62mzQ4b_K",
        "colab_type": "code",
        "outputId": "1718b037-9f63-419f-dda0-0b24654e4677",
        "colab": {}
      },
      "source": [
        "X_train, X_test, y_train, y_test = train_test_split(scaled_df.iloc[:, :-1], scaled_df.iloc[:, -1], \n",
        "                                                    test_size = .3, random_state = 42)\n",
        "print(\">>>> X_train size: {}\".format(X_train.shape))\n",
        "print(\">>>> X_test size: {}\".format(X_test.shape))\n",
        "print()\n",
        "print(\">>>> y_train size: {}\".format(y_train.shape))\n",
        "print(\">>>> st size: {}\".format(y_test.shape))"
      ],
      "execution_count": 0,
      "outputs": [
        {
          "output_type": "stream",
          "text": [
            ">>>> X_train size: (7700, 9)\n",
            ">>>> X_test size: (3300, 9)\n",
            "\n",
            ">>>> y_train size: (7700,)\n",
            ">>>> st size: (3300,)\n"
          ],
          "name": "stdout"
        }
      ]
    },
    {
      "cell_type": "markdown",
      "metadata": {
        "id": "QgvbM2g24b_U",
        "colab_type": "text"
      },
      "source": [
        "### ROC Curve Function\n"
      ]
    },
    {
      "cell_type": "code",
      "metadata": {
        "ExecuteTime": {
          "end_time": "2018-04-06T02:36:00.526192Z",
          "start_time": "2018-04-06T02:36:00.508182Z"
        },
        "id": "1n1x7D-84b_V",
        "colab_type": "code",
        "colab": {}
      },
      "source": [
        "def plot_roc(truth, pred, title):\n",
        "    fpr, tpr, _ = metrics.roc_curve(truth, pred)\n",
        "    roc_auc = metrics.auc(fpr, tpr)\n",
        "    lw = 2\n",
        "    \n",
        "    c = (np.random.rand(), np.random.rand(), np.random.rand())\n",
        "    plt.plot(fpr, tpr, color = c, lw = lw, label = title + \" (AUC = %0.2f)\" % roc_auc)\n",
        "    plt.plot([0, 1], [0, 1], color = 'slateblue', lw = lw, linestyle = '--')\n",
        "    plt.xlim([0.0, 1.0])\n",
        "    plt.ylim([0.0, 1.0])\n",
        "    plt.xlabel('False Positive Rate')\n",
        "    plt.ylabel('True Positive Rate')\n",
        "    plt.title('ROC Curve')\n",
        "    plt.legend(loc='best')"
      ],
      "execution_count": 0,
      "outputs": []
    },
    {
      "cell_type": "markdown",
      "metadata": {
        "id": "pKt2yUKz4b_X",
        "colab_type": "text"
      },
      "source": [
        "### Confusion Matrix Function\n"
      ]
    },
    {
      "cell_type": "code",
      "metadata": {
        "ExecuteTime": {
          "end_time": "2018-04-06T02:37:48.471952Z",
          "start_time": "2018-04-06T02:37:48.437934Z"
        },
        "id": "Clc7peCA4b_Y",
        "colab_type": "code",
        "colab": {}
      },
      "source": [
        "def plot_c_matrix(model, normalize=False):\n",
        "    c_matrix = confusion_matrix(y_test, model, labels=[0, 1])\n",
        "    classes=[\"Will Pay\", \"Will Default\"]\n",
        "    cmap = plt.cm.cool\n",
        "    title = \"Confusion Matrix\"\n",
        "    if normalize:\n",
        "        c_matrix = c_matrix.astype('float') / c_matrix.sum(axis=1)[:, np.newaxis]\n",
        "        c_matrix = np.around(c_matrix, decimals=3)\n",
        "        \n",
        "    plt.imshow(c_matrix, interpolation='nearest', cmap=cmap)\n",
        "    plt.title(title)\n",
        "    plt.colorbar()\n",
        "    tick_marks = np.arange(len(classes))\n",
        "    plt.xticks(tick_marks, classes, rotation=45)\n",
        "    plt.yticks(tick_marks, classes)\n",
        "    thresh = c_matrix.max() / 2.0\n",
        "    \n",
        "    for i, j in itertools.product(range(c_matrix.shape[0]), range(c_matrix.shape[1])):\n",
        "        plt.text(j, i, c_matrix[i, j],\n",
        "                 horizontalalignment=\"center\",\n",
        "                 color=\"white\" if c_matrix[i, j] > thresh else \"black\")\n",
        "        \n",
        "    plt.tight_layout()\n",
        "    plt.ylabel('True label')\n",
        "    plt.xlabel('Predicted label')"
      ],
      "execution_count": 0,
      "outputs": []
    },
    {
      "cell_type": "markdown",
      "metadata": {
        "id": "nMrCIWLW4b_i",
        "colab_type": "text"
      },
      "source": [
        "## Random Forest\n",
        "We'll use the random forest algorithm to fit a number of decision tree classifiers on various sub-samples of the dataset and use averaging to improve the predictive accuracy and control over-fitting."
      ]
    },
    {
      "cell_type": "code",
      "metadata": {
        "ExecuteTime": {
          "end_time": "2018-04-06T01:49:40.165189Z",
          "start_time": "2018-04-06T01:49:27.463051Z"
        },
        "id": "gcblfvbW4b_j",
        "colab_type": "code",
        "outputId": "324c4e84-3068-403d-dcd5-c6fda61a9bcf",
        "colab": {}
      },
      "source": [
        "rand_forest = RandomForestClassifier(criterion = 'gini', random_state = 42)\n",
        "maxFeatures  = range(1, scaled_df.shape[1]-1)\n",
        "param_dt = dict(max_features = maxFeatures )\n",
        "rand = RandomizedSearchCV(rand_forest, param_dt, cv = 10, scoring = 'accuracy', n_iter = len(maxFeatures), random_state = 42)\n",
        "\n",
        "X = scaled_df.iloc[:, :-1].values\n",
        "y = scaled_df.iloc[:, -1].values\n",
        "rand.fit(X, y)\n",
        "mean_score = [x.mean_validation_score for x in rand.grid_scores_]\n",
        "print(rand.best_estimator_)"
      ],
      "execution_count": 0,
      "outputs": [
        {
          "output_type": "stream",
          "text": [
            "RandomForestClassifier(bootstrap=True, class_weight=None, criterion='gini',\n",
            "            max_depth=None, max_features=4, max_leaf_nodes=None,\n",
            "            min_impurity_decrease=0.0, min_impurity_split=None,\n",
            "            min_samples_leaf=1, min_samples_split=2,\n",
            "            min_weight_fraction_leaf=0.0, n_estimators=10, n_jobs=1,\n",
            "            oob_score=False, random_state=42, verbose=0, warm_start=False)\n"
          ],
          "name": "stdout"
        }
      ]
    },
    {
      "cell_type": "markdown",
      "metadata": {
        "id": "dd61MeB84b_n",
        "colab_type": "text"
      },
      "source": [
        ""
      ]
    },
    {
      "cell_type": "code",
      "metadata": {
        "ExecuteTime": {
          "end_time": "2018-04-06T01:49:44.185983Z",
          "start_time": "2018-04-06T01:49:43.952373Z"
        },
        "id": "49RK7dW74b_o",
        "colab_type": "code",
        "outputId": "e77237d1-eb57-497f-c34e-092e1decb227",
        "colab": {}
      },
      "source": [
        "rf = RandomForestClassifier(bootstrap = True, criterion = 'gini', max_features = rand.best_estimator_.max_features, \n",
        "                            random_state = 42)\n",
        "rf.fit(X_train, y_train)\n",
        "pred = rf.predict(X_test)\n",
        "pred_prob = rf.predict_proba(X_test)[:, 1]\n",
        "acc_score = accuracy_score(y_test, pred)\n",
        "roc_score = metrics.roc_auc_score(y_test, pred)\n",
        "print(acc_score)"
      ],
      "execution_count": 0,
      "outputs": [
        {
          "output_type": "stream",
          "text": [
            "0.886363636364\n"
          ],
          "name": "stdout"
        }
      ]
    },
    {
      "cell_type": "markdown",
      "metadata": {
        "id": "iPi3PZqU4b_v",
        "colab_type": "text"
      },
      "source": [
        "### ROC Curve and Confusion Matrix"
      ]
    },
    {
      "cell_type": "code",
      "metadata": {
        "ExecuteTime": {
          "end_time": "2018-04-06T02:37:54.947197Z",
          "start_time": "2018-04-06T02:37:53.295002Z"
        },
        "id": "IVLeABWf4b_w",
        "colab_type": "code",
        "outputId": "d2efff72-0b71-41db-bf60-f8e07d68c0a7",
        "colab": {}
      },
      "source": [
        "plot_roc(y_test, pred_prob, 'Random Forest')\n",
        "plt.show()\n",
        "plt.figure(figsize=(8,6))\n",
        "plot_c_matrix(pred, normalize = True)\n",
        "plt.show()"
      ],
      "execution_count": 0,
      "outputs": [
        {
          "output_type": "display_data",
          "data": {
            "image/png": "[encoded data removed]",
            "text/plain": [
              "<matplotlib.figure.Figure at 0xe764a58>"
            ]
          },
          "metadata": {
            "tags": []
          }
        },
        {
          "output_type": "display_data",
          "data": {
            "image/png": "[encoded data removed]",
            "text/plain": [
              "<matplotlib.figure.Figure at 0x4dd09fd0>"
            ]
          },
          "metadata": {
            "tags": []
          }
        }
      ]
    }
  ]
}